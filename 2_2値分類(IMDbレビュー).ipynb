{
  "nbformat": 4,
  "nbformat_minor": 0,
  "metadata": {
    "colab": {
      "name": "2_2値分類(IMDbレビュー).ipynb",
      "provenance": [],
      "toc_visible": true,
      "authorship_tag": "ABX9TyP9ozymB7ORwXT5R7ipfeiC",
      "include_colab_link": true
    },
    "kernelspec": {
      "name": "python3",
      "display_name": "Python 3"
    }
  },
  "cells": [
    {
      "cell_type": "markdown",
      "metadata": {
        "id": "view-in-github",
        "colab_type": "text"
      },
      "source": [
        "<a href=\"https://colab.research.google.com/github/m-hironori/learing-keras/blob/master/2_2%E5%80%A4%E5%88%86%E9%A1%9E(IMDb%E3%83%AC%E3%83%93%E3%83%A5%E3%83%BC).ipynb\" target=\"_parent\"><img src=\"https://colab.research.google.com/assets/colab-badge.svg\" alt=\"Open In Colab\"/></a>"
      ]
    },
    {
      "cell_type": "code",
      "metadata": {
        "id": "nQIQ3EDG0cYk",
        "colab_type": "code",
        "outputId": "fb97995b-557e-4d2a-b768-6c8bfb26e051",
        "colab": {
          "base_uri": "https://localhost:8080/",
          "height": 97
        }
      },
      "source": [
        "import keras\n",
        "keras.__version__"
      ],
      "execution_count": 1,
      "outputs": [
        {
          "output_type": "stream",
          "text": [
            "Using TensorFlow backend.\n"
          ],
          "name": "stderr"
        },
        {
          "output_type": "display_data",
          "data": {
            "text/html": [
              "<p style=\"color: red;\">\n",
              "The default version of TensorFlow in Colab will soon switch to TensorFlow 2.x.<br>\n",
              "We recommend you <a href=\"https://www.tensorflow.org/guide/migrate\" target=\"_blank\">upgrade</a> now \n",
              "or ensure your notebook will continue to use TensorFlow 1.x via the <code>%tensorflow_version 1.x</code> magic:\n",
              "<a href=\"https://colab.research.google.com/notebooks/tensorflow_version.ipynb\" target=\"_blank\">more info</a>.</p>\n"
            ],
            "text/plain": [
              "<IPython.core.display.HTML object>"
            ]
          },
          "metadata": {
            "tags": []
          }
        },
        {
          "output_type": "execute_result",
          "data": {
            "text/plain": [
              "'2.2.5'"
            ]
          },
          "metadata": {
            "tags": []
          },
          "execution_count": 1
        }
      ]
    },
    {
      "cell_type": "markdown",
      "metadata": {
        "id": "GWyUWxbfiku0",
        "colab_type": "text"
      },
      "source": [
        "# 2値分類(IMDbレビュー)"
      ]
    },
    {
      "cell_type": "markdown",
      "metadata": {
        "id": "EPenJcRpL1my",
        "colab_type": "text"
      },
      "source": [
        "kerasによるモデル作成の基本として、2値分類の例をやってみましょう。\n",
        "今回は、[IMDb](https://www.imdb.com/)という映画レビューサイトのポジネガ分類をやってみましょう。\n",
        "\n",
        "\n",
        "\n",
        " "
      ]
    },
    {
      "cell_type": "markdown",
      "metadata": {
        "id": "P_ILIsH0jHB6",
        "colab_type": "text"
      },
      "source": [
        "## 問題設定"
      ]
    },
    {
      "cell_type": "markdown",
      "metadata": {
        "id": "k3I_agcBjJpi",
        "colab_type": "text"
      },
      "source": [
        "まずは、問題設定を確認してみましょう。"
      ]
    },
    {
      "cell_type": "markdown",
      "metadata": {
        "id": "BX489a_LlS9j",
        "colab_type": "text"
      },
      "source": [
        "### 問題設定の確認"
      ]
    },
    {
      "cell_type": "markdown",
      "metadata": {
        "id": "uNbzxWHJL6Ha",
        "colab_type": "text"
      },
      "source": [
        "\n",
        "問題属性 | 問題内容\n",
        "--- | ---\n",
        "入力データ形式 | レビューテキスト（英語）\n",
        "予測すること | レビュー内容が、ポジティブ or ネガティブ\n",
        "評価指標 | accuracy\n",
        "評価方法 | ホールドアウト"
      ]
    },
    {
      "cell_type": "markdown",
      "metadata": {
        "id": "O_Yuw5Nbjw2x",
        "colab_type": "text"
      },
      "source": [
        "レビューテキストを入力に、ポジティブかネガティブかを当てることが問題設定です。\n",
        "\n",
        "keras には、あらかじめこのデータセットが用意されていて、扱いやすいため、\n",
        "keras のテキストを使った例としてはよく使われます。\n"
      ]
    },
    {
      "cell_type": "markdown",
      "metadata": {
        "id": "59iE32MelPnV",
        "colab_type": "text"
      },
      "source": [
        "## データ準備"
      ]
    },
    {
      "cell_type": "markdown",
      "metadata": {
        "id": "ONqBg_ITlaPq",
        "colab_type": "text"
      },
      "source": [
        "データを準備してみましょう"
      ]
    },
    {
      "cell_type": "markdown",
      "metadata": {
        "id": "_4OX7Vbqle_T",
        "colab_type": "text"
      },
      "source": [
        "### データ取得する"
      ]
    },
    {
      "cell_type": "code",
      "metadata": {
        "id": "CHwweTr4ljeD",
        "colab_type": "code",
        "colab": {}
      },
      "source": [
        "from keras.datasets import imdb\n",
        "\n",
        "(train_data, train_labels), (test_data, test_labels) = imdb.load_data(num_words=10000)"
      ],
      "execution_count": 0,
      "outputs": []
    },
    {
      "cell_type": "markdown",
      "metadata": {
        "id": "My5ZSB2jmJOO",
        "colab_type": "text"
      },
      "source": [
        "データロードの関数が用意されているので、これを呼ぶだけで、データ取得が終わります。\n",
        "\n",
        "ダウンロード後、num_words=10000で、出現頻度順上位10,000の単語のみをロードしています。"
      ]
    },
    {
      "cell_type": "markdown",
      "metadata": {
        "id": "ln1ZnlGjnG5Z",
        "colab_type": "text"
      },
      "source": [
        "### 内容を確認する"
      ]
    },
    {
      "cell_type": "markdown",
      "metadata": {
        "id": "VDY5LVsTnKSO",
        "colab_type": "text"
      },
      "source": [
        "* テンソルで準備：データはテンソル ( Numpy でーたが扱いやすい ) として準備\n",
        "* 値を正規化：値は [ -1 , -1 ] や [ 0 , 1 ] ぐらいの値にスケーリングしておく\n",
        "* スケール合わせ：特徴量の値の範囲がことなったり、異なる種類のデータを使う場合は、スケールを合わせるためにデータを正規化する "
      ]
    },
    {
      "cell_type": "markdown",
      "metadata": {
        "id": "jzEcmP7LnLXG",
        "colab_type": "text"
      },
      "source": [
        "基本的に、上記3点がデータ準備で必要なことです。テンソル準備、値を正規化、そしてスケールを合わせる。\n",
        "\n",
        "今回はテキストデータのみなので、スケール合わせは必要なさそうです。"
      ]
    },
    {
      "cell_type": "markdown",
      "metadata": {
        "id": "ClSLxP83nw1C",
        "colab_type": "text"
      },
      "source": [
        "### データ型を確認する"
      ]
    },
    {
      "cell_type": "code",
      "metadata": {
        "id": "BfaE8Y1Qn0bs",
        "colab_type": "code",
        "outputId": "09f334d3-7fc7-4603-96ea-40576a294994",
        "colab": {
          "base_uri": "https://localhost:8080/",
          "height": 102
        }
      },
      "source": [
        "print(\"\\tデータ型\")\n",
        "print(f\"訓練データ\\t{type(train_data)}\")\n",
        "print(f\"訓練ラベル\\t{type(train_labels)}\")\n",
        "print(f\"テストデータ\\t{type(test_data)}\")\n",
        "print(f\"テストラベル\\t{type(test_labels)}\")"
      ],
      "execution_count": 3,
      "outputs": [
        {
          "output_type": "stream",
          "text": [
            "\tデータ型\n",
            "訓練データ\t<class 'numpy.ndarray'>\n",
            "訓練ラベル\t<class 'numpy.ndarray'>\n",
            "テストデータ\t<class 'numpy.ndarray'>\n",
            "テストラベル\t<class 'numpy.ndarray'>\n"
          ],
          "name": "stdout"
        }
      ]
    },
    {
      "cell_type": "markdown",
      "metadata": {
        "id": "FsXPoTV4oFqH",
        "colab_type": "text"
      },
      "source": [
        "Numpy形式で用意されているので、今回もデータ型はこのままでよさそうです。"
      ]
    },
    {
      "cell_type": "code",
      "metadata": {
        "id": "cZ_bw-MjoVGb",
        "colab_type": "code",
        "outputId": "af43a6f7-3260-4da7-c8b6-96738c550196",
        "colab": {
          "base_uri": "https://localhost:8080/",
          "height": 122
        }
      },
      "source": [
        "import numpy as np\n",
        "\n",
        "print(\"\\tデータサイズ\\t型\\t最大値\\t最小値\")\n",
        "print(f\"訓練データ\\t{train_data.shape}\\t{train_data.dtype}\\t{train_data.max()}\\t{train_data.min()}\")\n",
        "print(f\"訓練ラベル\\t{train_labels.shape}\\t{train_labels.dtype}\\t{train_labels.max()}\\t{train_labels.min()}\")\n",
        "print(f\"テストデータ\\t{test_data.shape}\\t{test_data.dtype}\\t{test_data.max()}\\t{test_data.min()}\")\n",
        "print(f\"テストラベル\\t{test_labels.shape}\\t{test_labels.dtype}\\t{test_labels.max()}\\t{test_labels.min()}\")"
      ],
      "execution_count": 4,
      "outputs": [
        {
          "output_type": "stream",
          "text": [
            "\tデータサイズ\t型\t最大値\t最小値\n",
            "訓練データ\t(25000,)\tobject\t[1, 9995, 2, 7, 2208, 7335, 3135, 4173, 3783, 509, 1683, 4702, 2, 2, 6, 201, 7, 6415, 687, 2, 2, 7, 6387, 548, 139, 7583, 295, 34, 4485, 5302, 2, 2, 2, 7, 2, 2, 146, 24, 1017, 2282, 133, 21, 4, 1591, 3113, 786, 2, 16, 125, 4, 2, 9790, 2039, 137, 267, 2, 5, 2, 120, 2024, 980, 2, 1248, 5666, 727, 1405, 6879, 1060, 6442, 18, 2, 1461, 2, 1883, 445, 109, 5369, 3696, 33, 236, 786, 5580, 7994, 8, 2, 2, 103, 2, 98, 11, 2, 1461, 24, 66, 351, 1461, 165, 116, 17, 2545, 18, 6717, 8694, 5514, 980, 2545, 165, 734, 18, 2311, 52, 84, 157, 18, 7232, 11, 661, 8, 607, 3531, 223, 1066, 445, 9236, 996, 8, 2898, 4931, 8, 5526, 8316, 7880, 154, 378, 459, 18, 6942, 632, 5, 79, 2024, 18, 68, 4918, 813, 2456, 2, 17, 840, 4807, 3854, 23, 136, 159, 5770, 852, 1698, 632, 7708, 7993, 1003, 1372, 5747, 2, 7, 5840, 5408, 11, 7200, 120, 4682, 7, 2, 3368, 2103, 8, 1140, 2, 880, 1692, 7, 68, 205, 3565, 5903, 21, 3204, 1372, 2, 2, 1098, 125, 128, 2429, 21, 9000, 2, 632, 2, 245, 39, 3526, 5, 9386, 2690, 6, 4951, 7, 2, 496, 90, 103, 316, 47, 348, 56, 2, 483, 2, 2865, 56, 6, 9739, 445, 9236, 2568, 2464, 8, 632, 29, 57, 1207, 1085, 17, 6, 3842, 632, 3055, 8, 516, 5765, 2, 88, 240, 128, 74, 15, 7906, 700, 2143, 109, 166, 642, 2, 5, 6358, 795, 7771, 6474, 2, 11, 1526, 4041, 2, 2, 2, 2, 2, 31, 160, 143, 6, 201, 7, 3404, 5, 85, 1748, 2, 15, 62, 516, 6, 2691, 6945, 132, 2, 4193, 7, 1056, 6756, 4262, 19, 164, 21, 2, 2, 1141, 281, 5, 4, 4461, 7, 5681, 2, 5, 1175, 2, 2628, 7232, 772, 447, 2066, 588, 17, 8508, 18, 5580, 2, 10, 10, 13, 100, 140, 23, 21, 14, 9, 43, 2, 48, 335, 120, 4, 559, 7, 3917, 5, 24, 581, 11, 9484, 3231, 225, 242, 164, 133, 18, 25, 2, 195, 45, 24, 99, 230, 125, 7, 2291, 18, 3783, 102, 38, 2, 32, 207, 398, 48, 25, 191, 79, 195, 7, 4, 512]\t[1, 2, 2, 2, 2, 9, 4, 86, 6594, 20, 7, 1300, 2, 6457, 5, 1238, 9, 24, 44, 2, 2, 2, 42, 2, 12, 9, 1004, 6, 55, 338, 1830, 11, 6, 2, 11, 6327, 121, 4, 2, 26, 3276, 2, 2, 2, 5233, 372, 4780, 13, 81, 24, 124, 4, 282, 138, 6457, 6546, 14, 1579, 756, 5, 2776, 8, 276, 2511, 21, 849, 36, 26, 55, 619, 537, 49, 7, 98, 483, 2244, 13, 1276, 40, 4, 1301, 65, 7, 4, 430, 5, 27, 336, 15, 925, 19, 6, 313, 7, 68, 205, 5, 2171, 34, 98, 4, 65, 7, 4, 3000, 430, 15, 2251, 29, 7446, 6, 1374, 4, 65, 7, 4, 132, 15, 5245, 677, 476, 17, 48, 36, 71, 68, 205, 3197, 5, 2847, 5, 4, 65, 7, 4, 185, 255, 5233, 34, 41, 2, 61, 2302, 9, 3020, 10, 10, 425, 3829, 2, 475, 1604, 2, 5438, 2, 2, 475, 4, 96, 7, 4, 113]\n",
            "訓練ラベル\t(25000,)\tint64\t1\t0\n",
            "テストデータ\t(25000,)\tobject\t[1, 9927, 2, 9, 6, 686, 19, 6, 117, 1056, 37, 1388, 4007, 5, 27, 1410, 33, 4, 1450, 568, 2550, 9, 6, 2, 37, 694, 15, 60, 4, 568, 461, 5525, 42, 303, 2523, 15, 9, 51, 4, 22, 9, 32, 44, 5, 6, 6823, 4565, 33, 4, 273, 10, 10, 7184, 2, 961, 4, 1347, 39, 1172, 2, 5274, 90, 5, 1525, 90, 429, 107, 1211, 493, 37, 26, 103, 90, 88, 29, 562, 2, 5311, 278, 137, 9365, 460, 562, 2, 250, 464, 5, 317, 90, 55, 76, 584, 18, 677, 153, 11, 2829, 7184, 5, 2, 169, 6, 840, 132, 2, 2, 6, 1138, 568, 1909, 5, 6437, 37, 2013, 6, 2513, 5379, 34, 1205, 318, 508, 93, 2, 83, 6, 2944, 6, 404, 1347, 5, 2, 21, 36, 28, 8, 2225, 4, 2, 5, 50, 9, 9927, 11, 4, 217, 7, 6, 2, 11, 5659, 4, 4246, 2, 620, 8, 339, 257, 85, 36, 26, 324, 34, 4, 1132, 1715, 9927, 5, 27, 117, 8960, 10, 10, 12, 562, 2, 891, 153, 29, 560, 8, 97, 6, 4565, 22, 103, 29, 1196, 8, 79, 6, 3484, 18, 2, 1040, 4, 881, 5, 814, 11, 4, 1226, 7, 2323, 5, 11, 1450, 7, 2, 4, 87, 2, 9, 17, 644, 4, 1524, 7777, 12, 9, 4, 31, 159, 236, 431, 7, 37, 1131, 103, 160, 22, 19, 2, 11, 4506, 10, 10, 2, 165, 473, 2, 305, 7, 29, 161, 40, 15, 1122, 33, 32, 21, 2, 9, 35, 321, 9489, 5, 408, 375, 8, 4, 91, 1078, 239, 21, 330, 25, 2, 3628, 15, 9, 35, 2, 284, 6, 680, 109, 55, 2, 5, 427, 1167, 23, 6, 785, 270, 2, 161, 40, 90, 33, 32, 5, 161, 181, 8, 157, 19, 90, 126, 174, 10, 10, 2, 9, 355, 202, 4, 91, 4764, 109, 11, 4, 1282, 7, 24, 38, 111, 221, 105, 25, 70, 67, 51, 29, 9, 547, 112, 4382, 34, 9927, 5, 27, 117, 1824, 1056, 5, 32, 4, 2515, 7, 2323, 11, 3441, 4609, 6, 1358, 284, 10, 10, 82, 2, 37, 2116, 245, 491, 8, 4, 58, 7, 4, 1423, 29, 82, 16, 24, 86, 1099, 21, 407, 6, 87, 7596, 29, 2938, 4, 4988, 7, 6, 2610, 2243, 143, 4, 226, 22, 5, 214, 11, 4, 130, 27, 580, 8, 413, 2523, 280, 53, 10, 10, 2, 47, 5978, 33, 314, 4, 8572, 2022, 19, 6, 5317, 5, 6, 2, 21, 9692, 853, 6, 1112, 324, 54, 29, 892, 2, 4, 86, 58, 75, 460, 124, 15, 4, 4537, 2, 47, 6, 4376, 2779, 439, 103, 4, 4565, 2, 2, 8, 193, 27, 173, 7, 4, 2, 5, 4899, 8, 2, 37, 272, 56, 8, 90, 15, 29, 64, 188, 83, 4, 767, 4246, 88, 29, 473, 8, 193, 1060, 23, 4, 5818, 7, 27, 6139, 2, 152, 1277, 51, 29, 817, 4, 311, 9706, 260, 110, 2, 11, 6, 87, 136, 11, 27, 2368, 313, 997, 2, 1726, 2373, 15, 216, 46, 7, 4, 6139, 5, 1274, 90, 33, 15, 58, 6, 55, 1281, 136, 31, 9706, 6, 196, 58, 103, 13, 2134, 12, 16, 126, 38, 878, 8, 2, 5, 1504, 15, 538, 33, 6, 58, 57, 31, 3792, 4, 582, 504, 7, 3536, 20, 231, 87, 6106, 54, 498, 16, 93, 34, 508, 10, 10, 75, 252, 80, 377, 6, 1051, 40, 4, 156, 131, 12, 186, 60, 103, 9633, 153, 14, 31, 2677, 4, 329, 1063, 7, 4, 1446, 3106, 7, 2, 51, 9, 355, 19, 12, 13, 244, 1595, 31, 152, 193, 76, 602, 11, 148, 289, 156, 800, 289, 2819, 5, 68, 568, 2243, 75, 850, 99, 117, 44, 7184, 5, 27, 3610, 457, 153, 245, 39, 27, 307, 250, 2247, 2, 9, 131, 6, 87, 6437, 21, 51, 93, 90, 413, 6, 2779, 132, 19, 163, 2373, 11, 27, 6139, 2, 1421, 17, 48, 29, 9, 11, 35, 908, 1154, 7, 4, 2, 9, 4, 132, 11, 4, 2, 7, 298, 519, 5, 3559, 728, 5, 9927, 9, 2, 8, 168, 33, 6, 87, 284, 33, 4, 1289, 7, 27, 113, 21, 89, 100, 29, 126, 869, 824, 15, 32, 26, 2523, 10, 10, 11, 35, 2704, 2, 1630, 15, 50, 9, 57, 255, 11, 4, 22, 24, 11, 4, 55, 767, 4246, 21, 13, 377, 73, 15, 9104, 52, 267, 668, 2247, 19, 57, 705, 611, 75, 26, 11, 4, 2226, 50, 11, 192, 5160, 6, 255, 39, 4, 1445, 7, 35, 154, 2, 1658, 164, 5, 2371, 1364, 8, 4, 1312, 8, 1632, 8, 4, 544, 7, 41, 154, 1461, 2, 2, 122, 142, 40, 15, 158, 153, 908, 14, 58, 2, 16, 940, 73, 224, 10, 10, 4, 767, 47, 434, 1283, 6, 171, 21, 24, 111, 2, 5786, 8, 22, 479, 4, 4565, 33, 273, 5, 594, 3985, 4, 5818, 7, 4, 6139, 5, 6518, 11, 428, 6207, 5, 2918, 27, 2, 3398, 638, 6, 6850, 15, 9, 99, 117, 18, 6, 87, 2112, 5, 4565, 20, 21, 4, 2, 234, 115, 2696, 25, 5, 12, 9, 6, 500, 23, 6, 312, 651, 5, 50, 26, 242, 49, 3908, 25, 850, 54, 25, 67, 4, 22, 120, 5, 120, 174, 600, 7, 4, 3908, 9, 15, 75, 26, 32, 2523, 5, 4, 522, 2, 2, 9, 82, 2561, 10, 10, 488]\t[1, 2, 2, 2, 2, 4, 2, 393, 7, 6, 2, 1830, 39, 998, 2445, 1364, 656, 94, 58, 143, 4, 454, 17, 12, 144, 366, 75, 6050, 39, 2, 21, 5610, 1915, 5, 1398, 83, 2, 7, 1306, 5, 6, 483, 5564, 3411, 44, 4, 394, 2, 7, 2, 10, 10, 2, 7279, 5, 2, 638, 4, 8921, 2, 5096, 4, 330, 5, 2, 4, 529, 14, 9521, 370, 157, 9, 2, 11, 6, 2, 109, 37, 9, 1305, 4, 9824, 2, 27, 292, 33, 4, 8465, 1923, 5, 1200, 27, 223, 8, 605, 2, 95, 2, 174, 5, 3582, 8, 4, 5315, 1946, 7, 27, 430, 351, 10, 10, 6, 2, 154, 255, 2, 23, 41, 658, 5, 6, 185, 430, 1442, 154, 183, 413, 162, 5, 162, 183, 783, 469, 9, 4, 8921, 2, 17, 594, 8559, 17, 4, 479, 7, 438]\n",
            "テストラベル\t(25000,)\tint64\t1\t0\n"
          ],
          "name": "stdout"
        }
      ]
    },
    {
      "cell_type": "markdown",
      "metadata": {
        "id": "U1mXh9FCpi0Z",
        "colab_type": "text"
      },
      "source": [
        "よさそうに思いきや、データの内容が、object型でした。このままではだめそうですね。\n",
        "\n",
        "訓練ラベルは、整数型で1と0の値しかないため、このままでよさそうです。"
      ]
    },
    {
      "cell_type": "markdown",
      "metadata": {
        "id": "AC34sWl9qAul",
        "colab_type": "text"
      },
      "source": [
        "### データ内容を確認する"
      ]
    },
    {
      "cell_type": "code",
      "metadata": {
        "id": "8PK89X_wqDol",
        "colab_type": "code",
        "outputId": "c59640c5-7793-422f-ba02-1764d966d628",
        "colab": {
          "base_uri": "https://localhost:8080/",
          "height": 1000
        }
      },
      "source": [
        "# 訓練データ内容を表示する\n",
        "train_data[0]"
      ],
      "execution_count": 5,
      "outputs": [
        {
          "output_type": "execute_result",
          "data": {
            "text/plain": [
              "[1,\n",
              " 14,\n",
              " 22,\n",
              " 16,\n",
              " 43,\n",
              " 530,\n",
              " 973,\n",
              " 1622,\n",
              " 1385,\n",
              " 65,\n",
              " 458,\n",
              " 4468,\n",
              " 66,\n",
              " 3941,\n",
              " 4,\n",
              " 173,\n",
              " 36,\n",
              " 256,\n",
              " 5,\n",
              " 25,\n",
              " 100,\n",
              " 43,\n",
              " 838,\n",
              " 112,\n",
              " 50,\n",
              " 670,\n",
              " 2,\n",
              " 9,\n",
              " 35,\n",
              " 480,\n",
              " 284,\n",
              " 5,\n",
              " 150,\n",
              " 4,\n",
              " 172,\n",
              " 112,\n",
              " 167,\n",
              " 2,\n",
              " 336,\n",
              " 385,\n",
              " 39,\n",
              " 4,\n",
              " 172,\n",
              " 4536,\n",
              " 1111,\n",
              " 17,\n",
              " 546,\n",
              " 38,\n",
              " 13,\n",
              " 447,\n",
              " 4,\n",
              " 192,\n",
              " 50,\n",
              " 16,\n",
              " 6,\n",
              " 147,\n",
              " 2025,\n",
              " 19,\n",
              " 14,\n",
              " 22,\n",
              " 4,\n",
              " 1920,\n",
              " 4613,\n",
              " 469,\n",
              " 4,\n",
              " 22,\n",
              " 71,\n",
              " 87,\n",
              " 12,\n",
              " 16,\n",
              " 43,\n",
              " 530,\n",
              " 38,\n",
              " 76,\n",
              " 15,\n",
              " 13,\n",
              " 1247,\n",
              " 4,\n",
              " 22,\n",
              " 17,\n",
              " 515,\n",
              " 17,\n",
              " 12,\n",
              " 16,\n",
              " 626,\n",
              " 18,\n",
              " 2,\n",
              " 5,\n",
              " 62,\n",
              " 386,\n",
              " 12,\n",
              " 8,\n",
              " 316,\n",
              " 8,\n",
              " 106,\n",
              " 5,\n",
              " 4,\n",
              " 2223,\n",
              " 5244,\n",
              " 16,\n",
              " 480,\n",
              " 66,\n",
              " 3785,\n",
              " 33,\n",
              " 4,\n",
              " 130,\n",
              " 12,\n",
              " 16,\n",
              " 38,\n",
              " 619,\n",
              " 5,\n",
              " 25,\n",
              " 124,\n",
              " 51,\n",
              " 36,\n",
              " 135,\n",
              " 48,\n",
              " 25,\n",
              " 1415,\n",
              " 33,\n",
              " 6,\n",
              " 22,\n",
              " 12,\n",
              " 215,\n",
              " 28,\n",
              " 77,\n",
              " 52,\n",
              " 5,\n",
              " 14,\n",
              " 407,\n",
              " 16,\n",
              " 82,\n",
              " 2,\n",
              " 8,\n",
              " 4,\n",
              " 107,\n",
              " 117,\n",
              " 5952,\n",
              " 15,\n",
              " 256,\n",
              " 4,\n",
              " 2,\n",
              " 7,\n",
              " 3766,\n",
              " 5,\n",
              " 723,\n",
              " 36,\n",
              " 71,\n",
              " 43,\n",
              " 530,\n",
              " 476,\n",
              " 26,\n",
              " 400,\n",
              " 317,\n",
              " 46,\n",
              " 7,\n",
              " 4,\n",
              " 2,\n",
              " 1029,\n",
              " 13,\n",
              " 104,\n",
              " 88,\n",
              " 4,\n",
              " 381,\n",
              " 15,\n",
              " 297,\n",
              " 98,\n",
              " 32,\n",
              " 2071,\n",
              " 56,\n",
              " 26,\n",
              " 141,\n",
              " 6,\n",
              " 194,\n",
              " 7486,\n",
              " 18,\n",
              " 4,\n",
              " 226,\n",
              " 22,\n",
              " 21,\n",
              " 134,\n",
              " 476,\n",
              " 26,\n",
              " 480,\n",
              " 5,\n",
              " 144,\n",
              " 30,\n",
              " 5535,\n",
              " 18,\n",
              " 51,\n",
              " 36,\n",
              " 28,\n",
              " 224,\n",
              " 92,\n",
              " 25,\n",
              " 104,\n",
              " 4,\n",
              " 226,\n",
              " 65,\n",
              " 16,\n",
              " 38,\n",
              " 1334,\n",
              " 88,\n",
              " 12,\n",
              " 16,\n",
              " 283,\n",
              " 5,\n",
              " 16,\n",
              " 4472,\n",
              " 113,\n",
              " 103,\n",
              " 32,\n",
              " 15,\n",
              " 16,\n",
              " 5345,\n",
              " 19,\n",
              " 178,\n",
              " 32]"
            ]
          },
          "metadata": {
            "tags": []
          },
          "execution_count": 5
        }
      ]
    },
    {
      "cell_type": "markdown",
      "metadata": {
        "id": "aY9bLDzSqplE",
        "colab_type": "text"
      },
      "source": [
        "入力はテキストデータのはずなのに、数字の列になっています。\n",
        "\n",
        "\n"
      ]
    },
    {
      "cell_type": "markdown",
      "metadata": {
        "id": "AY47T28drusX",
        "colab_type": "text"
      },
      "source": [
        "### テキストデータの前処理"
      ]
    },
    {
      "cell_type": "markdown",
      "metadata": {
        "id": "y3Qdt6AQrx4w",
        "colab_type": "text"
      },
      "source": [
        "\n",
        "\n",
        "No | 処理     | 内容 | 例(This movie was just brilliant casting)\n",
        "---|----------|------|---\n",
        "1  | Tokenize | テキストを単語に区切る | `[\"This\", \"movie\", \"was\", \"just\", \"brilliant\", \"casting\"]`\n",
        "2  | Normalize| 大文字を小文字に変換、活用形を原型に変えるなど | `[\"this\", \"movie\", \"was\", \"just\", \"brilliant\", \"casting\"]`\n",
        "3  | Indexing | 単語の辞書を作成しながらインデックスに変換 | `[14, 22, 16, 43, 530, 13, 19]`\n"
      ]
    },
    {
      "cell_type": "markdown",
      "metadata": {
        "id": "NiKIi3L9uq-q",
        "colab_type": "text"
      },
      "source": [
        "テキストデータを扱うときは、各単語を単語のインデックスデータに変換して扱います。\n",
        "\n",
        "まず、テキストを、単語に区切ります。これが、データの最小単位になります。\n",
        "次に、正規化を行います。大文字を小文字に変換したり、活用形を原型に戻したり(played -> play)します。この処理は、実施するデータによって何を行うかまちまちです。\n",
        "次に、単語の辞書を作成しながらインデックスに変換していきます。\"this\"はインデックス14に変換するといった辞書を作成していき、同じ単語は同じインデックス番号となるようにします。\n",
        "\n",
        "このような処理によって単語インデックスのシーケンスができます。\n",
        "\n",
        "Keras の IMDb データセットでは、あらかじめ、このような処理が行われていて、テキストデータをインデックスデータに変換してくれています。"
      ]
    },
    {
      "cell_type": "markdown",
      "metadata": {
        "id": "Jw5a5SRgwfgs",
        "colab_type": "text"
      },
      "source": [
        "### 単語インデックスデータをテキストに戻してみる"
      ]
    },
    {
      "cell_type": "code",
      "metadata": {
        "id": "paMXCb5yw1ZB",
        "colab_type": "code",
        "outputId": "76be17e5-9e18-4ea1-b31b-54f8530aa0e3",
        "colab": {
          "base_uri": "https://localhost:8080/",
          "height": 54
        }
      },
      "source": [
        "# 単語インデックス(単語->インデックス))を　逆転させる(インデックス -> 単語 )\n",
        "reverse_word_index = dict([(value, key) for (key, value) in imdb.get_word_index().items()])\n",
        "# imdbデータセットではインデックスオフセットは 3\n",
        "# 0: パディング用に予約, 1: シーケンス開始を示すために予約, 2: 足きりなどにより未登録の単語用に予約.\n",
        "# 詳細は https://keras.io/datasets/#imdb-movie-reviews-sentiment-classification の start_char=1, oov_char=2, index_from=3 あたりを参照\n",
        "decoded = []\n",
        "for i in train_data[0]:\n",
        "    if i == 0:\n",
        "        decoded.append(\"[PAD]\")\n",
        "    elif i == 1:\n",
        "        decoded.append(\"[START]\")\n",
        "    elif i == 2:\n",
        "        decoded.append(\"[UNK]\")\n",
        "    else:\n",
        "        decoded.append(reverse_word_index[i - 3])\n",
        "print(' '.join(decoded))\n"
      ],
      "execution_count": 6,
      "outputs": [
        {
          "output_type": "stream",
          "text": [
            "[START] this film was just brilliant casting location scenery story direction everyone's really suited the part they played and you could just imagine being there robert [UNK] is an amazing actor and now the same being director [UNK] father came from the same scottish island as myself so i loved the fact there was a real connection with this film the witty remarks throughout the film were great it was just brilliant so much that i bought the film as soon as it was released for [UNK] and would recommend it to everyone to watch and the fly fishing was amazing really cried at the end it was so sad and you know what they say if you cry at a film it must have been good and this definitely was also [UNK] to the two little boy's that played the [UNK] of norman and paul they were just brilliant children are often left out of the [UNK] list i think because the stars that play them all grown up are such a big profile for the whole film but these children are amazing and should be praised for what they have done don't you think the whole story was so lovely because it was true and was someone's life after all that was shared with us all\n"
          ],
          "name": "stdout"
        }
      ]
    },
    {
      "cell_type": "markdown",
      "metadata": {
        "id": "eR-e-fNCsUPv",
        "colab_type": "text"
      },
      "source": [
        "単語インデックスからテキストデータに戻してみましょう。\n",
        "\n",
        "このように、元のテキストがわかります。どうやら、正規化では、大文字小文字変換程度しかやっていないようです。活用形をもとに戻したりはしていないのがわかります。\n",
        "\n",
        "これで、データの中身がわかりました。"
      ]
    },
    {
      "cell_type": "markdown",
      "metadata": {
        "id": "FvCHwtMFxyNt",
        "colab_type": "text"
      },
      "source": [
        "## ベースライン精度(統計的検出力)"
      ]
    },
    {
      "cell_type": "markdown",
      "metadata": {
        "id": "YJzQ3NIGx4QF",
        "colab_type": "text"
      },
      "source": [
        "データの統計的な情報から、ランダムに選択した場合の精度を求めてみます。 これから作成するモデルで、これを上回らないと、ランダムに選択したときに負けてしまい、意味がなくなります。"
      ]
    },
    {
      "cell_type": "code",
      "metadata": {
        "id": "w1Ifw8E8yE2c",
        "colab_type": "code",
        "colab": {
          "base_uri": "https://localhost:8080/",
          "height": 353
        },
        "outputId": "c2a0395c-ca45-4017-c9d4-9c532f4b8aed"
      },
      "source": [
        "import matplotlib.pyplot as plt\n",
        "import seaborn as sns\n",
        "fig, (ax1, ax2) = plt.subplots(1, 2, figsize=(10,5))\n",
        "sns.distplot(train_labels, kde=False, rug=False, ax=ax1)\n",
        "ax1.set_title(\"train_labels histgram\")\n",
        "sns.distplot(test_labels, kde=False, rug=False, ax=ax2) \n",
        "ax2.set_title(\"test_labels histgram\")"
      ],
      "execution_count": 7,
      "outputs": [
        {
          "output_type": "execute_result",
          "data": {
            "text/plain": [
              "Text(0.5, 1.0, 'test_labels histgram')"
            ]
          },
          "metadata": {
            "tags": []
          },
          "execution_count": 7
        },
        {
          "output_type": "display_data",
          "data": {
            "image/png": "[encoded data removed]",
            "text/plain": [
              "<Figure size 720x360 with 2 Axes>"
            ]
          },
          "metadata": {
            "tags": []
          }
        }
      ]
    },
    {
      "cell_type": "markdown",
      "metadata": {
        "id": "LAV26Y3MzLnb",
        "colab_type": "text"
      },
      "source": [
        "訓練データもテストデータもラベルの分布は同じで、\"0\"も\"1\"も同数程度あります。\n",
        "なので、accuracyを評価指標として大丈夫そうです。\n",
        "\n",
        "同数あるので、accuracy=0.5 がベースラインになりますね。\n"
      ]
    },
    {
      "cell_type": "markdown",
      "metadata": {
        "id": "Vwe9D-ItxJMo",
        "colab_type": "text"
      },
      "source": [
        "## モデル開発"
      ]
    },
    {
      "cell_type": "markdown",
      "metadata": {
        "id": "52A5N4hIxShn",
        "colab_type": "text"
      },
      "source": [
        "では、すごく簡単なモデルを作成してみましょう。"
      ]
    },
    {
      "cell_type": "markdown",
      "metadata": {
        "id": "ilVDFogruMqV",
        "colab_type": "text"
      },
      "source": [
        "### テキストデータとラベルをテンソルに変換"
      ]
    },
    {
      "cell_type": "code",
      "metadata": {
        "id": "qlmTykBjudnX",
        "colab_type": "code",
        "colab": {
          "base_uri": "https://localhost:8080/",
          "height": 102
        },
        "outputId": "5d7756f3-0b40-4f2e-8902-d6759dd08f0a"
      },
      "source": [
        "def vectorize_sequences(sequences, dimension=10000):\n",
        "    # 全部ゼロのマトリックス (len(sequences), dimension)\n",
        "    results = np.zeros((len(sequences), dimension))\n",
        "    for i, sequence in enumerate(sequences):\n",
        "        results[i, sequence] = 1.  # 単語インデックスに 1 \n",
        "    return results\n",
        "\n",
        "# テキストデータをテンソルに変換\n",
        "x_train = vectorize_sequences(train_data)\n",
        "x_test = vectorize_sequences(test_data)\n",
        "\n",
        "# ラベルをテンソルに変換\n",
        "y_train = np.asarray(train_labels).astype('float32')\n",
        "y_test = np.asarray(test_labels).astype('float32')\n",
        "\n",
        "print(\"\\tデータサイズ\\t型\\t最大値\\t最小値\")\n",
        "print(f\"訓練データ\\t{x_train.shape}\\t{x_train.dtype}\\t{x_train.max()}\\t{x_train.min()}\")\n",
        "print(f\"訓練ラベル\\t{y_train.shape}\\t{y_train.dtype}\\t{y_train.max()}\\t{y_train.min()}\")\n",
        "print(f\"テストデータ\\t{x_test.shape}\\t{x_test.dtype}\\t{x_test.max()}\\t{x_test.min()}\")\n",
        "print(f\"テストラベル\\t{y_test.shape}\\t{y_test.dtype}\\t{y_test.max()}\\t{y_test.min()}\")"
      ],
      "execution_count": 8,
      "outputs": [
        {
          "output_type": "stream",
          "text": [
            "\tデータサイズ\t型\t最大値\t最小値\n",
            "訓練データ\t(25000, 10000)\tfloat64\t1.0\t0.0\n",
            "訓練ラベル\t(25000,)\tfloat32\t1.0\t0.0\n",
            "テストデータ\t(25000, 10000)\tfloat64\t1.0\t0.0\n",
            "テストラベル\t(25000,)\tfloat32\t1.0\t0.0\n"
          ],
          "name": "stdout"
        }
      ]
    },
    {
      "cell_type": "markdown",
      "metadata": {
        "id": "D_Fo670wvhu0",
        "colab_type": "text"
      },
      "source": [
        "テキストデータは、今回は単語インデックスデータまで作成されているので、この単語インデックス番目が出現したら 1 となるようなベクトルデータを作成します。\n",
        "\n",
        "ラベルデータは、0と1をテンソルに変換しておきます。\n",
        "\n",
        "これにより、データをテンソルに変換します。"
      ]
    },
    {
      "cell_type": "markdown",
      "metadata": {
        "id": "z9cNjj2UxZXW",
        "colab_type": "text"
      },
      "source": [
        "### モデルを定義する"
      ]
    },
    {
      "cell_type": "code",
      "metadata": {
        "id": "QKQgQY2AxhVh",
        "colab_type": "code",
        "colab": {
          "base_uri": "https://localhost:8080/",
          "height": 524
        },
        "outputId": "deced59e-49cc-4437-f5d1-6fab95dae165"
      },
      "source": [
        "from keras import models\n",
        "from keras import layers\n",
        "from keras.utils import plot_model\n",
        "\n",
        "model = models.Sequential()\n",
        "model.add(layers.Dense(16, activation='relu', input_shape=(10000,)))\n",
        "model.add(layers.Dense(16, activation='relu'))\n",
        "model.add(layers.Dense(1, activation='sigmoid'))\n",
        "# モデルを表示\n",
        "plot_model(model, show_shapes=True)"
      ],
      "execution_count": 9,
      "outputs": [
        {
          "output_type": "stream",
          "text": [
            "WARNING:tensorflow:From /usr/local/lib/python3.6/dist-packages/keras/backend/tensorflow_backend.py:66: The name tf.get_default_graph is deprecated. Please use tf.compat.v1.get_default_graph instead.\n",
            "\n",
            "WARNING:tensorflow:From /usr/local/lib/python3.6/dist-packages/keras/backend/tensorflow_backend.py:541: The name tf.placeholder is deprecated. Please use tf.compat.v1.placeholder instead.\n",
            "\n",
            "WARNING:tensorflow:From /usr/local/lib/python3.6/dist-packages/keras/backend/tensorflow_backend.py:4432: The name tf.random_uniform is deprecated. Please use tf.random.uniform instead.\n",
            "\n"
          ],
          "name": "stdout"
        },
        {
          "output_type": "execute_result",
          "data": {
            "image/png": "[encoded data removed]",
            "text/plain": [
              "<IPython.core.display.Image object>"
            ]
          },
          "metadata": {
            "tags": []
          },
          "execution_count": 9
        }
      ]
    },
    {
      "cell_type": "markdown",
      "metadata": {
        "id": "YgRRE0M00L_w",
        "colab_type": "text"
      },
      "source": [
        "入力データは、10000個の単語インデックスデータで、単語が出現していれば1となるデータす。\n",
        "これを 16個の隠れ変数を持つDense層とします。\n",
        "\n",
        "さらにもう一度同じDense層を重ねます。\n",
        "\n",
        "これを、1となる確率だけを求める 1個の隠れ変数をとるDense層を重ねます。\n",
        "\n",
        "２値分類では、0か1かを当てるため、1となる確率だけを求めれば、0となる確率も求めることができます。 1 から 1となる確率を引けばよいのです。\n",
        "なので、最終層では1となる確率だけを求めればよいのです。\n",
        "\n",
        "最後の、Dense層は、出力となる 0 と 1のどちらかの分類問題と解くため、1個の要素に変換し、活性化関数は sigmoid としています。"
      ]
    },
    {
      "cell_type": "markdown",
      "metadata": {
        "id": "kwNq5zlZ2-ui",
        "colab_type": "text"
      },
      "source": [
        "### コンパイルする"
      ]
    },
    {
      "cell_type": "code",
      "metadata": {
        "id": "c9nYAp1M3BPV",
        "colab_type": "code",
        "colab": {
          "base_uri": "https://localhost:8080/",
          "height": 136
        },
        "outputId": "abd827f6-393b-4ec8-a00f-1578dfb2ab0a"
      },
      "source": [
        "from keras import optimizers\n",
        "from keras import losses\n",
        "from keras import metrics\n",
        "\n",
        "model.compile(optimizer=optimizers.RMSprop(lr=0.001),\n",
        "              loss=losses.binary_crossentropy,\n",
        "              metrics=[metrics.binary_accuracy])"
      ],
      "execution_count": 10,
      "outputs": [
        {
          "output_type": "stream",
          "text": [
            "WARNING:tensorflow:From /usr/local/lib/python3.6/dist-packages/keras/optimizers.py:793: The name tf.train.Optimizer is deprecated. Please use tf.compat.v1.train.Optimizer instead.\n",
            "\n",
            "WARNING:tensorflow:From /usr/local/lib/python3.6/dist-packages/keras/backend/tensorflow_backend.py:3657: The name tf.log is deprecated. Please use tf.math.log instead.\n",
            "\n",
            "WARNING:tensorflow:From /usr/local/lib/python3.6/dist-packages/tensorflow_core/python/ops/nn_impl.py:183: where (from tensorflow.python.ops.array_ops) is deprecated and will be removed in a future version.\n",
            "Instructions for updating:\n",
            "Use tf.where in 2.0, which has the same broadcast rule as np.where\n"
          ],
          "name": "stdout"
        }
      ]
    },
    {
      "cell_type": "markdown",
      "metadata": {
        "id": "tdEiaoUl3FGF",
        "colab_type": "text"
      },
      "source": [
        "２つ分類タスクでは、0か1かどちらかを求めるため、lossにbinary_crossentropyを用います。\n",
        "\n",
        "kerasでは、最適化、損失関数、メトリクスにこのように関数を指定することができます。より詳細なパラメータをいじりたい時には有効なので、こちらで指定してみましょう。"
      ]
    },
    {
      "cell_type": "markdown",
      "metadata": {
        "id": "150_GNzV4eIf",
        "colab_type": "text"
      },
      "source": [
        "### 訓練する"
      ]
    },
    {
      "cell_type": "code",
      "metadata": {
        "id": "kH8-QIMB4kw4",
        "colab_type": "code",
        "colab": {
          "base_uri": "https://localhost:8080/",
          "height": 986
        },
        "outputId": "24a09d44-d11b-426e-f124-bb0190cfef2e"
      },
      "source": [
        "# validationにも使うため、訓練データをランダムに並べ替える\n",
        "np.random.seed(seed=0)\n",
        "indices = np.arange(x_train.shape[0])\n",
        "np.random.shuffle(indices)\n",
        "x_train = x_train[indices]\n",
        "y_train = y_train[indices]\n",
        "\n",
        "# fitメソッドを呼んで訓練\n",
        "history = model.fit(x_train, y_train, epochs=20, batch_size=512, validation_split=0.1)"
      ],
      "execution_count": 11,
      "outputs": [
        {
          "output_type": "stream",
          "text": [
            "WARNING:tensorflow:From /usr/local/lib/python3.6/dist-packages/keras/backend/tensorflow_backend.py:1033: The name tf.assign_add is deprecated. Please use tf.compat.v1.assign_add instead.\n",
            "\n",
            "WARNING:tensorflow:From /usr/local/lib/python3.6/dist-packages/keras/backend/tensorflow_backend.py:1020: The name tf.assign is deprecated. Please use tf.compat.v1.assign instead.\n",
            "\n",
            "WARNING:tensorflow:From /usr/local/lib/python3.6/dist-packages/keras/backend/tensorflow_backend.py:3005: The name tf.Session is deprecated. Please use tf.compat.v1.Session instead.\n",
            "\n",
            "Train on 22500 samples, validate on 2500 samples\n",
            "Epoch 1/20\n",
            "WARNING:tensorflow:From /usr/local/lib/python3.6/dist-packages/keras/backend/tensorflow_backend.py:190: The name tf.get_default_session is deprecated. Please use tf.compat.v1.get_default_session instead.\n",
            "\n",
            "WARNING:tensorflow:From /usr/local/lib/python3.6/dist-packages/keras/backend/tensorflow_backend.py:197: The name tf.ConfigProto is deprecated. Please use tf.compat.v1.ConfigProto instead.\n",
            "\n",
            "WARNING:tensorflow:From /usr/local/lib/python3.6/dist-packages/keras/backend/tensorflow_backend.py:207: The name tf.global_variables is deprecated. Please use tf.compat.v1.global_variables instead.\n",
            "\n",
            "WARNING:tensorflow:From /usr/local/lib/python3.6/dist-packages/keras/backend/tensorflow_backend.py:216: The name tf.is_variable_initialized is deprecated. Please use tf.compat.v1.is_variable_initialized instead.\n",
            "\n",
            "WARNING:tensorflow:From /usr/local/lib/python3.6/dist-packages/keras/backend/tensorflow_backend.py:223: The name tf.variables_initializer is deprecated. Please use tf.compat.v1.variables_initializer instead.\n",
            "\n",
            "22500/22500 [==============================] - 3s 122us/step - loss: 0.4612 - binary_accuracy: 0.8173 - val_loss: 0.3333 - val_binary_accuracy: 0.8828\n",
            "Epoch 2/20\n",
            "22500/22500 [==============================] - 3s 115us/step - loss: 0.2663 - binary_accuracy: 0.9100 - val_loss: 0.2829 - val_binary_accuracy: 0.8888\n",
            "Epoch 3/20\n",
            "22500/22500 [==============================] - 3s 113us/step - loss: 0.2023 - binary_accuracy: 0.9302 - val_loss: 0.2654 - val_binary_accuracy: 0.8964\n",
            "Epoch 4/20\n",
            "22500/22500 [==============================] - 3s 116us/step - loss: 0.1692 - binary_accuracy: 0.9416 - val_loss: 0.2856 - val_binary_accuracy: 0.8836\n",
            "Epoch 5/20\n",
            "22500/22500 [==============================] - 3s 118us/step - loss: 0.1444 - binary_accuracy: 0.9514 - val_loss: 0.2848 - val_binary_accuracy: 0.8896\n",
            "Epoch 6/20\n",
            "22500/22500 [==============================] - 3s 115us/step - loss: 0.1268 - binary_accuracy: 0.9578 - val_loss: 0.3050 - val_binary_accuracy: 0.8840\n",
            "Epoch 7/20\n",
            "22500/22500 [==============================] - 3s 113us/step - loss: 0.1095 - binary_accuracy: 0.9642 - val_loss: 0.3240 - val_binary_accuracy: 0.8816\n",
            "Epoch 8/20\n",
            "22500/22500 [==============================] - 3s 116us/step - loss: 0.0990 - binary_accuracy: 0.9676 - val_loss: 0.3444 - val_binary_accuracy: 0.8792\n",
            "Epoch 9/20\n",
            "22500/22500 [==============================] - 3s 116us/step - loss: 0.0855 - binary_accuracy: 0.9723 - val_loss: 0.3615 - val_binary_accuracy: 0.8780\n",
            "Epoch 10/20\n",
            "22500/22500 [==============================] - 3s 115us/step - loss: 0.0753 - binary_accuracy: 0.9770 - val_loss: 0.3921 - val_binary_accuracy: 0.8760\n",
            "Epoch 11/20\n",
            "22500/22500 [==============================] - 3s 117us/step - loss: 0.0641 - binary_accuracy: 0.9807 - val_loss: 0.4218 - val_binary_accuracy: 0.8764\n",
            "Epoch 12/20\n",
            "22500/22500 [==============================] - 3s 114us/step - loss: 0.0578 - binary_accuracy: 0.9831 - val_loss: 0.4410 - val_binary_accuracy: 0.8696\n",
            "Epoch 13/20\n",
            "22500/22500 [==============================] - 3s 113us/step - loss: 0.0488 - binary_accuracy: 0.9870 - val_loss: 0.4706 - val_binary_accuracy: 0.8700\n",
            "Epoch 14/20\n",
            "22500/22500 [==============================] - 3s 112us/step - loss: 0.0431 - binary_accuracy: 0.9888 - val_loss: 0.5034 - val_binary_accuracy: 0.8708\n",
            "Epoch 15/20\n",
            "22500/22500 [==============================] - 2s 108us/step - loss: 0.0358 - binary_accuracy: 0.9912 - val_loss: 0.5303 - val_binary_accuracy: 0.8668\n",
            "Epoch 16/20\n",
            "22500/22500 [==============================] - 2s 107us/step - loss: 0.0313 - binary_accuracy: 0.9927 - val_loss: 0.5554 - val_binary_accuracy: 0.8660\n",
            "Epoch 17/20\n",
            "22500/22500 [==============================] - 2s 110us/step - loss: 0.0277 - binary_accuracy: 0.9932 - val_loss: 0.5934 - val_binary_accuracy: 0.8628\n",
            "Epoch 18/20\n",
            "22500/22500 [==============================] - 2s 111us/step - loss: 0.0237 - binary_accuracy: 0.9942 - val_loss: 0.6148 - val_binary_accuracy: 0.8696\n",
            "Epoch 19/20\n",
            "22500/22500 [==============================] - 2s 107us/step - loss: 0.0169 - binary_accuracy: 0.9965 - val_loss: 0.6603 - val_binary_accuracy: 0.8608\n",
            "Epoch 20/20\n",
            "22500/22500 [==============================] - 2s 110us/step - loss: 0.0161 - binary_accuracy: 0.9964 - val_loss: 0.6879 - val_binary_accuracy: 0.8660\n"
          ],
          "name": "stdout"
        }
      ]
    },
    {
      "cell_type": "markdown",
      "metadata": {
        "id": "tCBHiHw55WE5",
        "colab_type": "text"
      },
      "source": [
        "### 学習過程をみてみる"
      ]
    },
    {
      "cell_type": "code",
      "metadata": {
        "id": "zNUBzDZJ5Zw-",
        "colab_type": "code",
        "colab": {
          "base_uri": "https://localhost:8080/",
          "height": 295
        },
        "outputId": "e0a9f441-f8db-4e96-c7c1-9aa49e5eab71"
      },
      "source": [
        "plt.clf()   # clear figure\n",
        "\n",
        "acc = history.history['binary_accuracy']\n",
        "val_acc = history.history['val_binary_accuracy']\n",
        "loss = history.history['loss']\n",
        "val_loss = history.history['val_loss']\n",
        "\n",
        "epochs = range(1, len(acc) + 1)\n",
        "\n",
        "# \"bo\" is for \"blue dot\"\n",
        "plt.plot(epochs, loss, 'bo', label='Training loss')\n",
        "# b is for \"solid blue line\"\n",
        "plt.plot(epochs, val_loss, 'b', label='Validation loss')\n",
        "plt.title('Training and validation loss')\n",
        "plt.xlabel('Epochs')\n",
        "plt.ylabel('Loss')\n",
        "plt.legend()\n",
        "\n",
        "plt.show()"
      ],
      "execution_count": 12,
      "outputs": [
        {
          "output_type": "display_data",
          "data": {
            "image/png": "[encoded data removed]",
            "text/plain": [
              "<Figure size 432x288 with 1 Axes>"
            ]
          },
          "metadata": {
            "tags": []
          }
        }
      ]
    },
    {
      "cell_type": "markdown",
      "metadata": {
        "id": "9rlRYjDM5lPV",
        "colab_type": "text"
      },
      "source": [
        "訓練データのlossは順次減っているので、モデルとしては悪くなさそうです。\n",
        "\n",
        "バリデーションデータのlossは、4エポック目以降どんどん上がっているため、過学習を起こしています。\n",
        "\n",
        "このモデルだと、3エポック目程度でとどめておくのがよさそうです。"
      ]
    },
    {
      "cell_type": "code",
      "metadata": {
        "id": "WuccBdC55mUu",
        "colab_type": "code",
        "colab": {
          "base_uri": "https://localhost:8080/",
          "height": 295
        },
        "outputId": "2b523689-edd9-483a-bfbc-9679079acf49"
      },
      "source": [
        "plt.clf()   # clear figure\n",
        "\n",
        "plt.plot(epochs, acc, 'bo', label='Training acc')\n",
        "plt.plot(epochs, val_acc, 'b', label='Validation acc')\n",
        "plt.title('Training and validation accuracy')\n",
        "plt.xlabel('Epochs')\n",
        "plt.ylabel('Loss')\n",
        "plt.legend()\n",
        "\n",
        "plt.show()"
      ],
      "execution_count": 13,
      "outputs": [
        {
          "output_type": "display_data",
          "data": {
            "image/png": "[encoded data removed]",
            "text/plain": [
              "<Figure size 432x288 with 1 Axes>"
            ]
          },
          "metadata": {
            "tags": []
          }
        }
      ]
    },
    {
      "cell_type": "markdown",
      "metadata": {
        "id": "G1NYIbD268kL",
        "colab_type": "text"
      },
      "source": [
        "accuracyでも、lossと同じ傾向が出ています。\n",
        "\n",
        "3エポックくらいでとどめておくのがもっとも精度がよさそうです。"
      ]
    },
    {
      "cell_type": "markdown",
      "metadata": {
        "id": "RDfBD2WQ7Hs4",
        "colab_type": "text"
      },
      "source": [
        "### 精度を測る\n"
      ]
    },
    {
      "cell_type": "code",
      "metadata": {
        "id": "BOq6GVvd7Tx5",
        "colab_type": "code",
        "colab": {
          "base_uri": "https://localhost:8080/",
          "height": 153
        },
        "outputId": "a9c3a16a-9f79-429a-c0c0-61db839a049f"
      },
      "source": [
        "model = models.Sequential()\n",
        "model.add(layers.Dense(16, activation='relu', input_shape=(10000,)))\n",
        "model.add(layers.Dense(16, activation='relu'))\n",
        "model.add(layers.Dense(1, activation='sigmoid'))\n",
        "\n",
        "model.compile(optimizer=optimizers.RMSprop(lr=0.001),\n",
        "              loss=losses.binary_crossentropy,\n",
        "              metrics=[metrics.binary_accuracy])\n",
        "\n",
        "model.fit(x_train, y_train, epochs=3, batch_size=512)\n",
        "results = model.evaluate(x_test, y_test)\n",
        "results"
      ],
      "execution_count": 14,
      "outputs": [
        {
          "output_type": "stream",
          "text": [
            "Epoch 1/3\n",
            "25000/25000 [==============================] - 3s 112us/step - loss: 0.4425 - binary_accuracy: 0.8155\n",
            "Epoch 2/3\n",
            "25000/25000 [==============================] - 2s 99us/step - loss: 0.2538 - binary_accuracy: 0.9086\n",
            "Epoch 3/3\n",
            "25000/25000 [==============================] - 2s 100us/step - loss: 0.2007 - binary_accuracy: 0.9284\n",
            "25000/25000 [==============================] - 2s 66us/step\n"
          ],
          "name": "stdout"
        },
        {
          "output_type": "execute_result",
          "data": {
            "text/plain": [
              "[0.2850270633220673, 0.88648]"
            ]
          },
          "metadata": {
            "tags": []
          },
          "execution_count": 14
        }
      ]
    },
    {
      "cell_type": "markdown",
      "metadata": {
        "id": "9HE21gxZ8ACg",
        "colab_type": "text"
      },
      "source": [
        "88%の精度がでました。ベースラインは大幅に上回りました。\n",
        "\n",
        "学習過程でも見たとおり、過学習に陥っているため、モデルを見直しておく必要はありそうです。"
      ]
    }
  ]
}