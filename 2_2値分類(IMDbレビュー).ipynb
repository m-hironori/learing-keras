{
  "nbformat": 4,
  "nbformat_minor": 0,
  "metadata": {
    "colab": {
      "name": "2_2値分類(IMDbレビュー).ipynb",
      "provenance": [],
      "toc_visible": true,
      "authorship_tag": "ABX9TyNBTmu6pd3KKrHoo6JEWuLb",
      "include_colab_link": true
    },
    "kernelspec": {
      "name": "python3",
      "display_name": "Python 3"
    }
  },
  "cells": [
    {
      "cell_type": "markdown",
      "metadata": {
        "id": "view-in-github",
        "colab_type": "text"
      },
      "source": [
        "<a href=\"https://colab.research.google.com/github/m-hironori/learing-keras/blob/master/2_2%E5%80%A4%E5%88%86%E9%A1%9E(IMDb%E3%83%AC%E3%83%93%E3%83%A5%E3%83%BC).ipynb\" target=\"_parent\"><img src=\"https://colab.research.google.com/assets/colab-badge.svg\" alt=\"Open In Colab\"/></a>"
      ]
    },
    {
      "cell_type": "code",
      "metadata": {
        "id": "nQIQ3EDG0cYk",
        "colab_type": "code",
        "outputId": "df9d6c8e-c318-431a-ec57-ca4e7149fc16",
        "colab": {
          "base_uri": "https://localhost:8080/",
          "height": 97
        }
      },
      "source": [
        "import keras\n",
        "keras.__version__"
      ],
      "execution_count": 1,
      "outputs": [
        {
          "output_type": "stream",
          "text": [
            "Using TensorFlow backend.\n"
          ],
          "name": "stderr"
        },
        {
          "output_type": "display_data",
          "data": {
            "text/html": [
              "<p style=\"color: red;\">\n",
              "The default version of TensorFlow in Colab will soon switch to TensorFlow 2.x.<br>\n",
              "We recommend you <a href=\"https://www.tensorflow.org/guide/migrate\" target=\"_blank\">upgrade</a> now \n",
              "or ensure your notebook will continue to use TensorFlow 1.x via the <code>%tensorflow_version 1.x</code> magic:\n",
              "<a href=\"https://colab.research.google.com/notebooks/tensorflow_version.ipynb\" target=\"_blank\">more info</a>.</p>\n"
            ],
            "text/plain": [
              "<IPython.core.display.HTML object>"
            ]
          },
          "metadata": {
            "tags": []
          }
        },
        {
          "output_type": "execute_result",
          "data": {
            "text/plain": [
              "'2.2.5'"
            ]
          },
          "metadata": {
            "tags": []
          },
          "execution_count": 1
        }
      ]
    },
    {
      "cell_type": "markdown",
      "metadata": {
        "id": "GWyUWxbfiku0",
        "colab_type": "text"
      },
      "source": [
        "# 2値分類(IMDbレビュー)"
      ]
    },
    {
      "cell_type": "markdown",
      "metadata": {
        "id": "EPenJcRpL1my",
        "colab_type": "text"
      },
      "source": [
        "kerasによるモデル作成の基本として、2値分類の例をやってみましょう。\n",
        "今回は、[IMDb](https://www.imdb.com/)という映画レビューサイトのポジネガ分類をやってみましょう。\n",
        "\n",
        "\n",
        "\n",
        " "
      ]
    },
    {
      "cell_type": "markdown",
      "metadata": {
        "id": "P_ILIsH0jHB6",
        "colab_type": "text"
      },
      "source": [
        "## 問題設定"
      ]
    },
    {
      "cell_type": "markdown",
      "metadata": {
        "id": "k3I_agcBjJpi",
        "colab_type": "text"
      },
      "source": [
        "まずは、問題設定を確認してみましょう。"
      ]
    },
    {
      "cell_type": "markdown",
      "metadata": {
        "id": "BX489a_LlS9j",
        "colab_type": "text"
      },
      "source": [
        "### 問題設定の確認"
      ]
    },
    {
      "cell_type": "markdown",
      "metadata": {
        "id": "uNbzxWHJL6Ha",
        "colab_type": "text"
      },
      "source": [
        "\n",
        "問題属性 | 問題内容\n",
        "--- | ---\n",
        "入力データ形式 | レビューテキスト（英語）\n",
        "予測すること | レビュー内容が、ポジティブ or ネガティブ\n",
        "評価指標 | accuracy\n",
        "評価方法 | ホールドアウト"
      ]
    },
    {
      "cell_type": "markdown",
      "metadata": {
        "id": "O_Yuw5Nbjw2x",
        "colab_type": "text"
      },
      "source": [
        "レビューテキストを入力に、ポジティブかネガティブかを当てることが問題設定です。\n",
        "\n",
        "keras には、あらかじめこのデータセットが用意されていて、扱いやすいため、\n",
        "keras のテキストを使った例としてはよく使われます。\n"
      ]
    },
    {
      "cell_type": "markdown",
      "metadata": {
        "id": "59iE32MelPnV",
        "colab_type": "text"
      },
      "source": [
        "## データ準備"
      ]
    },
    {
      "cell_type": "markdown",
      "metadata": {
        "id": "ONqBg_ITlaPq",
        "colab_type": "text"
      },
      "source": [
        "データを準備してみましょう"
      ]
    },
    {
      "cell_type": "markdown",
      "metadata": {
        "id": "_4OX7Vbqle_T",
        "colab_type": "text"
      },
      "source": [
        "### データ取得する"
      ]
    },
    {
      "cell_type": "code",
      "metadata": {
        "id": "CHwweTr4ljeD",
        "colab_type": "code",
        "colab": {}
      },
      "source": [
        ""
      ],
      "execution_count": 0,
      "outputs": []
    }
  ]
}