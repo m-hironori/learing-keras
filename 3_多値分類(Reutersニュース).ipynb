{
  "nbformat": 4,
  "nbformat_minor": 0,
  "metadata": {
    "colab": {
      "name": "3_多値分類(Reutersニュース).ipynb",
      "provenance": [],
      "authorship_tag": "ABX9TyOUAzv7htrNxuvbL9NGxIGy",
      "include_colab_link": true
    },
    "kernelspec": {
      "name": "python3",
      "display_name": "Python 3"
    }
  },
  "cells": [
    {
      "cell_type": "markdown",
      "metadata": {
        "id": "view-in-github",
        "colab_type": "text"
      },
      "source": [
        "<a href=\"https://colab.research.google.com/github/m-hironori/learing-keras/blob/master/3_%E5%A4%9A%E5%80%A4%E5%88%86%E9%A1%9E(Reuters%E3%83%8B%E3%83%A5%E3%83%BC%E3%82%B9).ipynb\" target=\"_parent\"><img src=\"https://colab.research.google.com/assets/colab-badge.svg\" alt=\"Open In Colab\"/></a>"
      ]
    },
    {
      "cell_type": "code",
      "metadata": {
        "id": "aFaaEUQHSAb9",
        "colab_type": "code",
        "outputId": "0464c51e-ed57-4775-b433-dcdf15969203",
        "colab": {
          "base_uri": "https://localhost:8080/",
          "height": 97
        }
      },
      "source": [
        "import keras\n",
        "keras.__version__"
      ],
      "execution_count": 0,
      "outputs": [
        {
          "output_type": "stream",
          "text": [
            "Using TensorFlow backend.\n"
          ],
          "name": "stderr"
        },
        {
          "output_type": "display_data",
          "data": {
            "text/html": [
              "<p style=\"color: red;\">\n",
              "The default version of TensorFlow in Colab will soon switch to TensorFlow 2.x.<br>\n",
              "We recommend you <a href=\"https://www.tensorflow.org/guide/migrate\" target=\"_blank\">upgrade</a> now \n",
              "or ensure your notebook will continue to use TensorFlow 1.x via the <code>%tensorflow_version 1.x</code> magic:\n",
              "<a href=\"https://colab.research.google.com/notebooks/tensorflow_version.ipynb\" target=\"_blank\">more info</a>.</p>\n"
            ],
            "text/plain": [
              "<IPython.core.display.HTML object>"
            ]
          },
          "metadata": {
            "tags": []
          }
        },
        {
          "output_type": "execute_result",
          "data": {
            "text/plain": [
              "'2.2.5'"
            ]
          },
          "metadata": {
            "tags": []
          },
          "execution_count": 1
        }
      ]
    },
    {
      "cell_type": "markdown",
      "metadata": {
        "id": "igD-QSn9SP3F",
        "colab_type": "text"
      },
      "source": [
        "# 多値分類(Reutersニュース)"
      ]
    },
    {
      "cell_type": "markdown",
      "metadata": {
        "id": "dPI5lsJHSYnt",
        "colab_type": "text"
      },
      "source": [
        "kerasによるモデル作成の基本として、今度は多値分類の例をやってみましょう。 \n",
        "Reutersニュースのカテゴリ分類をやってみましょう。\n",
        "\n"
      ]
    },
    {
      "cell_type": "markdown",
      "metadata": {
        "id": "jb64bkzxSmtl",
        "colab_type": "text"
      },
      "source": [
        "## 問題設定\n"
      ]
    },
    {
      "cell_type": "markdown",
      "metadata": {
        "id": "JD4EOrs4SoAs",
        "colab_type": "text"
      },
      "source": [
        "まずは、問題設定を確認してみましょう。\n",
        "\n"
      ]
    },
    {
      "cell_type": "markdown",
      "metadata": {
        "id": "Ns0w5suuSpk9",
        "colab_type": "text"
      },
      "source": [
        "### 問題設定の確認\n"
      ]
    },
    {
      "cell_type": "markdown",
      "metadata": {
        "id": "FB8-rEMmStTk",
        "colab_type": "text"
      },
      "source": [
        "\n",
        "問題属性 | 問題内容\n",
        "--- | ---\n",
        "入力データ形式 | ニューステキスト（英語）\n",
        "予測すること | カテゴリ\n",
        "評価指標 | accuracy\n",
        "評価方法 | ホールドアウト"
      ]
    },
    {
      "cell_type": "markdown",
      "metadata": {
        "id": "TrJ-T2NhTLH1",
        "colab_type": "text"
      },
      "source": [
        "新聞記事を入力に、カテゴリを当てることが問題設定です。\n",
        "\n",
        "このデータセットは非常に有名で、テキスト分類ではよくつかわれます。\n",
        "keras にもこのデータセットがあらかじめ用意されています。"
      ]
    },
    {
      "cell_type": "markdown",
      "metadata": {
        "id": "YiRMOFR2T0y4",
        "colab_type": "text"
      },
      "source": [
        "## データ準備"
      ]
    },
    {
      "cell_type": "markdown",
      "metadata": {
        "id": "jUKvas8oT2UJ",
        "colab_type": "text"
      },
      "source": [
        "データ準備してみましょう"
      ]
    },
    {
      "cell_type": "markdown",
      "metadata": {
        "id": "zsCJied9T4v5",
        "colab_type": "text"
      },
      "source": [
        "### データ取得する"
      ]
    },
    {
      "cell_type": "code",
      "metadata": {
        "id": "G26FmqYeSLqx",
        "colab_type": "code",
        "outputId": "4c881c3e-7957-4d5d-852e-567a45dab979",
        "colab": {
          "base_uri": "https://localhost:8080/",
          "height": 114
        }
      },
      "source": [
        "from keras.datasets import reuters\n",
        "\n",
        "(train_data, train_labels), (test_data, test_labels) = reuters.load_data(num_words=10000)"
      ],
      "execution_count": 0,
      "outputs": [
        {
          "output_type": "stream",
          "text": [
            "Using TensorFlow backend.\n"
          ],
          "name": "stderr"
        },
        {
          "output_type": "display_data",
          "data": {
            "text/html": [
              "<p style=\"color: red;\">\n",
              "The default version of TensorFlow in Colab will soon switch to TensorFlow 2.x.<br>\n",
              "We recommend you <a href=\"https://www.tensorflow.org/guide/migrate\" target=\"_blank\">upgrade</a> now \n",
              "or ensure your notebook will continue to use TensorFlow 1.x via the <code>%tensorflow_version 1.x</code> magic:\n",
              "<a href=\"https://colab.research.google.com/notebooks/tensorflow_version.ipynb\" target=\"_blank\">more info</a>.</p>\n"
            ],
            "text/plain": [
              "<IPython.core.display.HTML object>"
            ]
          },
          "metadata": {
            "tags": []
          }
        },
        {
          "output_type": "stream",
          "text": [
            "Downloading data from https://s3.amazonaws.com/text-datasets/reuters.npz\n",
            "2113536/2110848 [==============================] - 1s 1us/step\n"
          ],
          "name": "stdout"
        }
      ]
    },
    {
      "cell_type": "markdown",
      "metadata": {
        "id": "Hy6OGQpWSPOO",
        "colab_type": "text"
      },
      "source": [
        "データロードの関数が用意されているので、これを呼ぶだけで、データ取得が終わります。\n",
        "\n",
        "ダウンロード後、num_words=10000で、出現頻度順上位10,000の単語のみをロードしています。"
      ]
    },
    {
      "cell_type": "markdown",
      "metadata": {
        "id": "baWz_UHKUJJf",
        "colab_type": "text"
      },
      "source": [
        "### 内容を確認する"
      ]
    },
    {
      "cell_type": "code",
      "metadata": {
        "id": "Lk5tqPucUTL_",
        "colab_type": "code",
        "outputId": "41154761-aa5e-4cae-978b-e18573ab182e",
        "colab": {
          "base_uri": "https://localhost:8080/",
          "height": 102
        }
      },
      "source": [
        "print(\"\\tデータ型\")\n",
        "print(f\"訓練データ\\t{type(train_data)}\")\n",
        "print(f\"訓練ラベル\\t{type(train_labels)}\")\n",
        "print(f\"テストデータ\\t{type(test_data)}\")\n",
        "print(f\"テストラベル\\t{type(test_labels)}\")"
      ],
      "execution_count": 0,
      "outputs": [
        {
          "output_type": "stream",
          "text": [
            "\tデータ型\n",
            "訓練データ\t<class 'numpy.ndarray'>\n",
            "訓練ラベル\t<class 'numpy.ndarray'>\n",
            "テストデータ\t<class 'numpy.ndarray'>\n",
            "テストラベル\t<class 'numpy.ndarray'>\n"
          ],
          "name": "stdout"
        }
      ]
    },
    {
      "cell_type": "markdown",
      "metadata": {
        "id": "qyb0w5u8ULso",
        "colab_type": "text"
      },
      "source": [
        "Numpy形式で用意されているので、今回もデータ型はこのままでよさそうです。"
      ]
    },
    {
      "cell_type": "code",
      "metadata": {
        "id": "GsANGLovUe02",
        "colab_type": "code",
        "outputId": "3b7ad194-06ce-4fc5-e869-ec95344b6b2f",
        "colab": {
          "base_uri": "https://localhost:8080/",
          "height": 122
        }
      },
      "source": [
        "import numpy as np\n",
        "\n",
        "print(\"\\tデータサイズ\\t型\\t最大値\\t最小値\")\n",
        "print(f\"訓練データ\\t{train_data.shape}\\t{train_data.dtype}\\t{train_data.max()}\\t{train_data.min()}\")\n",
        "print(f\"訓練ラベル\\t{train_labels.shape}\\t{train_labels.dtype}\\t{train_labels.max()}\\t{train_labels.min()}\")\n",
        "print(f\"テストデータ\\t{test_data.shape}\\t{test_data.dtype}\\t{test_data.max()}\\t{test_data.min()}\")\n",
        "print(f\"テストラベル\\t{test_labels.shape}\\t{test_labels.dtype}\\t{test_labels.max()}\\t{test_labels.min()}\")"
      ],
      "execution_count": 0,
      "outputs": [
        {
          "output_type": "stream",
          "text": [
            "\tデータサイズ\t型\t最大値\t最小値\n",
            "訓練データ\t(8982,)\tobject\t[1, 9975, 71, 8, 2, 151, 2128, 150, 2257, 13, 1021, 9, 10, 478, 2284, 374, 2682, 209, 1146, 922, 411, 5, 374, 454, 13, 89, 9975, 10, 2658, 5, 2, 6944, 871, 9, 1664, 8338, 1543, 32, 6772, 18, 58, 19, 579, 15, 90, 67, 374, 39, 46, 13, 48, 9975, 8, 4, 586, 336, 777, 10, 47, 999, 18, 358, 3504, 2338, 3340, 6, 1289, 181, 753, 970, 9, 6, 2567, 112, 4, 2266, 334, 116, 22, 2, 1098, 17, 12]\t[1, 2, 2, 2, 71, 8, 16, 369, 6, 223, 42, 374, 46, 9, 10, 46, 22, 4, 211, 5, 25, 1016, 354, 2, 323, 13, 4, 29, 798, 94, 156, 54, 29, 4, 49, 257, 186, 5, 6503, 18, 15, 2, 2, 299, 45, 2372, 783, 5, 4, 211, 5, 1016, 354, 2, 16, 8, 4, 211, 40, 5258, 42, 6185, 1005, 4, 49, 75, 8, 16, 33, 500, 78, 73, 2, 2758, 7, 4, 537, 8426, 654, 541, 4, 225, 109, 588, 2, 4, 135, 144, 6, 160, 9, 10, 73, 2, 1638, 3823, 7, 4, 314, 216, 245, 2, 4, 536, 7, 4, 1638, 654, 6, 188, 17, 12]\n",
            "訓練ラベル\t(8982,)\tint64\t45\t0\n",
            "テストデータ\t(2246,)\tobject\t[1, 9931, 1989, 149, 8, 16, 1059, 10, 1311, 6431, 13, 42, 943, 770, 7, 392, 5, 1245, 250, 175, 79, 2011, 9, 1958, 5, 4, 394, 57, 45, 836, 85, 1686, 4, 49, 8, 17, 12]\t[1, 2]\n",
            "テストラベル\t(2246,)\tint64\t45\t0\n"
          ],
          "name": "stdout"
        }
      ]
    },
    {
      "cell_type": "markdown",
      "metadata": {
        "id": "5Q7UFpr5UiZu",
        "colab_type": "text"
      },
      "source": [
        "よさそうに思いきや、データの内容が、object型でした。また、前回の例と同じように、テキストは前処理されている模様です。\n",
        "\n",
        "ラベルデータを見ると, 46個のカテゴリがあることがわかります。"
      ]
    },
    {
      "cell_type": "markdown",
      "metadata": {
        "id": "qP-KlDVEUuM-",
        "colab_type": "text"
      },
      "source": [
        "### 単語インデックスデータをテキストに戻してみる"
      ]
    },
    {
      "cell_type": "code",
      "metadata": {
        "id": "XyMT27j3U2Rm",
        "colab_type": "code",
        "outputId": "6d10059f-c967-44da-923e-96eadcb51c29",
        "colab": {
          "base_uri": "https://localhost:8080/",
          "height": 88
        }
      },
      "source": [
        "# 単語インデックス(単語->インデックス))を　逆転させる(インデックス -> 単語 )\n",
        "reverse_word_index = dict([(value, key) for (key, value) in reuters.get_word_index().items()])\n",
        "# imdbデータセットではインデックスオフセットは 3\n",
        "# 0: パディング用に予約, 1: シーケンス開始を示すために予約, 2: 足きりなどにより未登録の単語用に予約.\n",
        "# 詳細は https://keras.io/datasets/#reuters-newswire-topics-classification \n",
        "# 上記詳細から、https://keras.io/datasets/#imdb-movie-reviews-sentiment-classification がより詳細\n",
        "decoded = []\n",
        "for i in train_data[0]:\n",
        "    if i == 0:\n",
        "        decoded.append(\"[PAD]\")\n",
        "    elif i == 1:\n",
        "        decoded.append(\"[START]\")\n",
        "    elif i == 2:\n",
        "        decoded.append(\"[UNK]\")\n",
        "    else:\n",
        "        decoded.append(reverse_word_index[i - 3])\n",
        "print(' '.join(decoded))\n"
      ],
      "execution_count": 0,
      "outputs": [
        {
          "output_type": "stream",
          "text": [
            "Downloading data from https://s3.amazonaws.com/text-datasets/reuters_word_index.json\n",
            "557056/550378 [==============================] - 1s 2us/step\n",
            "[START] [UNK] [UNK] said as a result of its december acquisition of space co it expects earnings per share in 1987 of 1 15 to 1 30 dlrs per share up from 70 cts in 1986 the company said pretax net should rise to nine to 10 mln dlrs from six mln dlrs in 1986 and rental operation revenues to 19 to 22 mln dlrs from 12 5 mln dlrs it said cash flow per share this year should be 2 50 to three dlrs reuter 3\n"
          ],
          "name": "stdout"
        }
      ]
    },
    {
      "cell_type": "markdown",
      "metadata": {
        "id": "70JTw06OU0Xt",
        "colab_type": "text"
      },
      "source": [
        "単語インデックスからテキストデータに戻してみましょう。\n",
        "\n",
        "このように、元のテキストがわかります。どうやら、正規化では、大文字小文字変換程度しかやっていないようです。活用形をもとに戻したりはしていないのがわかります。\n",
        "\n",
        "これで、データの中身がわかりました。"
      ]
    },
    {
      "cell_type": "markdown",
      "metadata": {
        "id": "nzBd4b0zWKz0",
        "colab_type": "text"
      },
      "source": [
        "## ベースライン精度(統計的検出力)"
      ]
    },
    {
      "cell_type": "markdown",
      "metadata": {
        "id": "8CQ9exd-WMC6",
        "colab_type": "text"
      },
      "source": [
        "データの統計的な情報から、ランダムに選択した場合の精度を求めてみます。 これから作成するモデルで、これを上回らないと、ランダムに選択したときに負けてしまい、意味がなくなります。"
      ]
    },
    {
      "cell_type": "code",
      "metadata": {
        "id": "nEKOWu9GU1g2",
        "colab_type": "code",
        "outputId": "bf3616e4-74dc-4e8e-cc92-f46a019e8398",
        "colab": {
          "base_uri": "https://localhost:8080/",
          "height": 1000
        }
      },
      "source": [
        "import matplotlib.pyplot as plt\n",
        "import seaborn as sns\n",
        "sns.set(color_codes=True)\n",
        "fig, (ax1, ax2) = plt.subplots(2, 1, figsize=(15,10))\n",
        "sns.countplot(x=train_labels, ax=ax1)\n",
        "ax1.set_title(\"train_labels histgram\")\n",
        "sns.countplot(x=test_labels, ax=ax2)\n",
        "ax2.set_title(\"test_labels histgram\")\n",
        "plt.show()\n",
        "\n",
        "print('label\\ttrain\\ttest')\n",
        "train_labels_cnt = np.bincount(train_labels)\n",
        "test_labels_cnt = np.bincount(test_labels)\n",
        "for label in range(len(train_labels_cnt)):\n",
        "    print(f'{label}\\t{train_labels_cnt[label]}\\t{test_labels_cnt[label]}')"
      ],
      "execution_count": 0,
      "outputs": [
        {
          "output_type": "display_data",
          "data": {
            "image/png": "[encoded data removed]",
            "text/plain": [
              "<Figure size 1080x720 with 2 Axes>"
            ]
          },
          "metadata": {
            "tags": []
          }
        },
        {
          "output_type": "stream",
          "text": [
            "label\ttrain\ttest\n",
            "0\t55\t12\n",
            "1\t432\t105\n",
            "2\t74\t20\n",
            "3\t3159\t813\n",
            "4\t1949\t474\n",
            "5\t17\t5\n",
            "6\t48\t14\n",
            "7\t16\t3\n",
            "8\t139\t38\n",
            "9\t101\t25\n",
            "10\t124\t30\n",
            "11\t390\t83\n",
            "12\t49\t13\n",
            "13\t172\t37\n",
            "14\t26\t2\n",
            "15\t20\t9\n",
            "16\t444\t99\n",
            "17\t39\t12\n",
            "18\t66\t20\n",
            "19\t549\t133\n",
            "20\t269\t70\n",
            "21\t100\t27\n",
            "22\t15\t7\n",
            "23\t41\t12\n",
            "24\t62\t19\n",
            "25\t92\t31\n",
            "26\t24\t8\n",
            "27\t15\t4\n",
            "28\t48\t10\n",
            "29\t19\t4\n",
            "30\t45\t12\n",
            "31\t39\t13\n",
            "32\t32\t10\n",
            "33\t11\t5\n",
            "34\t50\t7\n",
            "35\t10\t6\n",
            "36\t49\t11\n",
            "37\t19\t2\n",
            "38\t19\t3\n",
            "39\t24\t5\n",
            "40\t36\t10\n",
            "41\t30\t8\n",
            "42\t13\t3\n",
            "43\t21\t6\n",
            "44\t12\t5\n",
            "45\t18\t1\n"
          ],
          "name": "stdout"
        }
      ]
    },
    {
      "cell_type": "markdown",
      "metadata": {
        "id": "QdUlLQiQaNB-",
        "colab_type": "text"
      },
      "source": [
        "訓練データもテストデータもラベルの分布はほぼ同じです。すべての46個カテゴリそれぞれについて、訓練データもテストデータもあります。\n",
        "\n",
        "しかし、ラベル毎のデータ量はかなり違います。訓練データ量が、一番多いカテゴリは3番で、3159件です。データ量が最も少ないカテゴリは、35番で、10件です。\n",
        "\n",
        "統計的検出力は、もっとも単純には、46個のカテゴリから一つを選択するので、46分の1で、accuracy が 0.217 % です。\n",
        "\n",
        "しかし、データの偏りがあることを知っている場合、もう少し良い精度になりますね。\n",
        "\n",
        "例えば、ラベルが3つあって、全部均等だったら 1/3 で 0.333です。\n",
        "しかし、訓練データで、 a が 3個, b が 2個, c が 1個だとわかっている場合、それぞれのカテゴリの確率は a が 3/6、 b が 2/6、 cが 1/6 の確率で出せばもう少しよい正解をだせるとわかります。\n",
        "このとき、テストデータが、a が 6 個, b が 4 個, c が 2 個あった場合、\n",
        "\n",
        "$\n",
        "accuracy= \\frac{1}{n}  \\sum_{l=0}^{k}( n_l \\times p_l )\n",
        "$\n",
        "$\n",
        "=\\frac{1}{12} (6 \\times \\frac{3}{6} + 4 \\times \\frac{2}{6} + 2 \\times \\frac{1}{6})\n",
        "$\n",
        "$\n",
        "=0.389\n",
        "$\n",
        "\n",
        " "
      ]
    },
    {
      "cell_type": "code",
      "metadata": {
        "id": "NX7gGkyHZHEt",
        "colab_type": "code",
        "colab": {}
      },
      "source": [
        ""
      ],
      "execution_count": 0,
      "outputs": []
    }
  ]
}