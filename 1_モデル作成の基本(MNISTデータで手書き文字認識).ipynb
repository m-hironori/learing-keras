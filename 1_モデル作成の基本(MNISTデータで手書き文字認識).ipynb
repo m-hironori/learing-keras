{
  "nbformat": 4,
  "nbformat_minor": 0,
  "metadata": {
    "colab": {
      "name": "1_モデル作成の基本(MNISTデータで手書き文字認識).ipynb",
      "provenance": [],
      "toc_visible": true,
      "authorship_tag": "ABX9TyPoxPMbqvb8TTjJpq57toIK",
      "include_colab_link": true
    },
    "kernelspec": {
      "name": "python3",
      "display_name": "Python 3"
    }
  },
  "cells": [
    {
      "cell_type": "markdown",
      "metadata": {
        "id": "view-in-github",
        "colab_type": "text"
      },
      "source": [
        "<a href=\"https://colab.research.google.com/github/m-hironori/learing-keras/blob/master/1_%E3%83%A2%E3%83%87%E3%83%AB%E4%BD%9C%E6%88%90%E3%81%AE%E5%9F%BA%E6%9C%AC(MNIST%E3%83%87%E3%83%BC%E3%82%BF%E3%81%A7%E6%89%8B%E6%9B%B8%E3%81%8D%E6%96%87%E5%AD%97%E8%AA%8D%E8%AD%98).ipynb\" target=\"_parent\"><img src=\"https://colab.research.google.com/assets/colab-badge.svg\" alt=\"Open In Colab\"/></a>"
      ]
    },
    {
      "cell_type": "code",
      "metadata": {
        "id": "nQIQ3EDG0cYk",
        "colab_type": "code",
        "outputId": "090151eb-d6cc-4762-ab42-fca500edf950",
        "colab": {
          "base_uri": "https://localhost:8080/",
          "height": 97
        }
      },
      "source": [
        "import keras\n",
        "keras.__version__"
      ],
      "execution_count": 0,
      "outputs": [
        {
          "output_type": "stream",
          "text": [
            "Using TensorFlow backend.\n"
          ],
          "name": "stderr"
        },
        {
          "output_type": "display_data",
          "data": {
            "text/html": [
              "<p style=\"color: red;\">\n",
              "The default version of TensorFlow in Colab will soon switch to TensorFlow 2.x.<br>\n",
              "We recommend you <a href=\"https://www.tensorflow.org/guide/migrate\" target=\"_blank\">upgrade</a> now \n",
              "or ensure your notebook will continue to use TensorFlow 1.x via the <code>%tensorflow_version 1.x</code> magic:\n",
              "<a href=\"https://colab.research.google.com/notebooks/tensorflow_version.ipynb\" target=\"_blank\">more info</a>.</p>\n"
            ],
            "text/plain": [
              "<IPython.core.display.HTML object>"
            ]
          },
          "metadata": {
            "tags": []
          }
        },
        {
          "output_type": "execute_result",
          "data": {
            "text/plain": [
              "'2.2.5'"
            ]
          },
          "metadata": {
            "tags": []
          },
          "execution_count": 1
        }
      ]
    },
    {
      "cell_type": "markdown",
      "metadata": {
        "id": "2Ubg1LbE1Qj7",
        "colab_type": "text"
      },
      "source": [
        "# モデル作成の基本(MNISTデータで手書き文字認識)\n",
        "\n"
      ]
    },
    {
      "cell_type": "markdown",
      "metadata": {
        "id": "EPenJcRpL1my",
        "colab_type": "text"
      },
      "source": [
        "kerasによるモデル作成の基本として、MNIST手書き文字認識を解いてみましょう。\n",
        "\n",
        "\n",
        "\n",
        " "
      ]
    },
    {
      "cell_type": "markdown",
      "metadata": {
        "id": "f4MG9VEYLj8J",
        "colab_type": "text"
      },
      "source": [
        "## 問題設定"
      ]
    },
    {
      "cell_type": "markdown",
      "metadata": {
        "id": "HMMyM7MLkRFW",
        "colab_type": "text"
      },
      "source": [
        "まずは、問題設定を確認してみましょう。"
      ]
    },
    {
      "cell_type": "markdown",
      "metadata": {
        "id": "uNbzxWHJL6Ha",
        "colab_type": "text"
      },
      "source": [
        "\n",
        "問題属性 | 問題内容\n",
        "--- | ---\n",
        "入力データ形式 | 手書きの数字 ( 0 - 9 ) 画像。28 * 28 の白黒。70,000 枚。\n",
        "予測すること | 0 - 9 のどれが書いてあるか。多クラス分類問題。 \n",
        "評価指標 | accuracy\n",
        "評価方法 | ホールドアウト(訓練 60,000, テスト 10,000)"
      ]
    },
    {
      "cell_type": "markdown",
      "metadata": {
        "id": "9Add9GrakdYc",
        "colab_type": "text"
      },
      "source": [
        "0 から 9 の手書き数字画像を入力に、何の数字かを当てることです。\n",
        "\n",
        "この問題は、データセットが用意されていること、\n",
        "データセットのサイズ小さいこと、\n",
        "DeppLearningの内容説明のしやすさもあり、\n",
        "非常によく取り上げられるます。"
      ]
    },
    {
      "cell_type": "markdown",
      "metadata": {
        "id": "VafqojnHlBQh",
        "colab_type": "text"
      },
      "source": [
        "## データ準備\n",
        "\n"
      ]
    },
    {
      "cell_type": "markdown",
      "metadata": {
        "id": "rAWyWidgmVc2",
        "colab_type": "text"
      },
      "source": [
        "データの準備をしてみましょう。"
      ]
    },
    {
      "cell_type": "code",
      "metadata": {
        "id": "im0lvxiooffp",
        "colab_type": "code",
        "colab": {
          "base_uri": "https://localhost:8080/",
          "height": 51
        },
        "outputId": "3d7976e7-9fa1-424e-a6d3-4d61ec67f95c"
      },
      "source": [
        "from keras.datasets import mnist\n",
        "\n",
        "(train_images, train_labels), (test_images, test_labels) = mnist.load_data()"
      ],
      "execution_count": 2,
      "outputs": [
        {
          "output_type": "stream",
          "text": [
            "Downloading data from https://s3.amazonaws.com/img-datasets/mnist.npz\n",
            "11493376/11490434 [==============================] - 0s 0us/step\n"
          ],
          "name": "stdout"
        }
      ]
    },
    {
      "cell_type": "markdown",
      "metadata": {
        "id": "pO1TNIsioyRP",
        "colab_type": "text"
      },
      "source": [
        "keras には、あらかじめ MNIST データを準備する関数が用意されているので、これだけで、データを取ってこれます。\n",
        "\n",
        "`mnist.loaddata()` 関数は、データを特定のURLからダウンロードし、`.keras`フォルダにおき、numpy行列としてロードしています。データがすでにフォルダにある場合はダウンロードしないようになっています。"
      ]
    },
    {
      "cell_type": "markdown",
      "metadata": {
        "id": "yElBMA0Ymgvu",
        "colab_type": "text"
      },
      "source": [
        "* データはテンソル ( Numpy でーたが扱いやすい ) として準備\n",
        "* 値は [ -1 , -1 ] や [ 0 , 1 ] ぐらいの値にスケーリングしておく\n",
        "* 特徴量の値の範囲がことなったり、異なる種類のデータを使う場合は、スケールを合わせるためにデータを正規化する \n",
        "\n"
      ]
    },
    {
      "cell_type": "markdown",
      "metadata": {
        "id": "tJoWZzCfnov4",
        "colab_type": "text"
      },
      "source": [
        "データの準備では、手元にデータを取ってきたら、ニューラルネットワークに合うように整形しておきましょう。特に値が全く異なる範囲の場合は、正規化しておきましょう。あらかじめ値の正規化したり、正規化の仕組みをニューラルネットワーク内に組み込んでおくこともできます。\n",
        "\n",
        "先ほどとってきたMNISTのデータ内容を見てみましょう。"
      ]
    },
    {
      "cell_type": "code",
      "metadata": {
        "id": "EICWcm9jr66f",
        "colab_type": "code",
        "colab": {
          "base_uri": "https://localhost:8080/",
          "height": 102
        },
        "outputId": "dd4858ab-464d-428a-b0f6-69379955ec8c"
      },
      "source": [
        "print(\"\\tデータ型\")\n",
        "print(f\"訓練データ\\t{type(train_images)}\")\n",
        "print(f\"訓練ラベル\\t{type(train_labels)}\")\n",
        "print(f\"テストデータ\\t{type(test_images)}\")\n",
        "print(f\"テストラベル\\t{type(test_labels)}\")"
      ],
      "execution_count": 10,
      "outputs": [
        {
          "output_type": "stream",
          "text": [
            "\tデータ型\n",
            "訓練データ\t<class 'numpy.ndarray'>\n",
            "訓練ラベル\t<class 'numpy.ndarray'>\n",
            "テストデータ\t<class 'numpy.ndarray'>\n",
            "テストラベル\t<class 'numpy.ndarray'>\n"
          ],
          "name": "stdout"
        }
      ]
    },
    {
      "cell_type": "markdown",
      "metadata": {
        "id": "eVDBF8Zmtz1a",
        "colab_type": "text"
      },
      "source": [
        "このように、ロードしたデータは、すでにNumpy形式になっていますね。"
      ]
    },
    {
      "cell_type": "code",
      "metadata": {
        "id": "LnE-nTdjqeeb",
        "colab_type": "code",
        "colab": {
          "base_uri": "https://localhost:8080/",
          "height": 102
        },
        "outputId": "7f832b20-d4d0-47b0-f6b0-9877a1425ee7"
      },
      "source": [
        "import numpy as np\n",
        "\n",
        "print(\"\\tデータサイズ\\t型\\t最大値\\t最小値\")\n",
        "print(f\"訓練データ\\t{train_images.shape}\\t{train_images.dtype}\\t{train_images.max()}\\t{train_images.min()}\")\n",
        "print(f\"訓練ラベル\\t{train_labels.shape}\\t{train_labels.dtype}\\t{train_labels.max()}\\t{train_labels.min()}\")\n",
        "print(f\"テストデータ\\t{test_images.shape}\\t{test_images.dtype}\\t{test_images.max()}\\t{test_images.min()}\")\n",
        "print(f\"テストラベル\\t{test_labels.shape}\\t{test_labels.dtype}\\t{test_labels.max()}\\t{test_labels.min()}\")"
      ],
      "execution_count": 21,
      "outputs": [
        {
          "output_type": "stream",
          "text": [
            "\tデータサイズ\t型\t最大値\t最小値\n",
            "訓練データ\t(60000, 28, 28)\tuint8\t255\t0\n",
            "訓練ラベル\t(60000,)\tuint8\t9\t0\n",
            "テストデータ\t(10000, 28, 28)\tuint8\t255\t0\n",
            "テストラベル\t(10000,)\tuint8\t9\t0\n"
          ],
          "name": "stdout"
        }
      ]
    },
    {
      "cell_type": "markdown",
      "metadata": {
        "id": "DSQftXuzvO92",
        "colab_type": "text"
      },
      "source": [
        "訓練データは 60000 枚の サイズ 28 * 28 の画像、各値は整数値、最大値 255, 最小値 0です。\n",
        "訓練ラベルは、60000個の正解データで整数値、最大値 9, 最小値 0です。テストデータは、10000 枚で、同じ形式の画像です。\n",
        "\n",
        "データは、白黒画像で255諧調の画像ですね。ラベルは、手書き文字のの正解の数字の 0 - 9 ですね。\n",
        "\n",
        "データは、0 - 1 にスケーリングしておいたほうがよさそうです。\n",
        "\n",
        "ラベルは、one-hot encoding しておいたほうがよさそうです。\n",
        "\n",
        "次は、データの中身を一つ取り出して見てみましょう。"
      ]
    },
    {
      "cell_type": "code",
      "metadata": {
        "id": "F9g1PN2GqmH5",
        "colab_type": "code",
        "colab": {
          "base_uri": "https://localhost:8080/",
          "height": 102
        },
        "outputId": "e7167e67-7795-4144-d73a-edbdb55ee209"
      },
      "source": [
        ""
      ],
      "execution_count": 20,
      "outputs": [
        {
          "output_type": "stream",
          "text": [
            "\tデータmax,min\n",
            "訓練データ\t255\t0\n",
            "訓練ラベル\t9\t0\n",
            "テストデータ\t(10000, 28, 28)\tuint8\n",
            "テストラベル\t(10000,)\tuint8\n"
          ],
          "name": "stdout"
        }
      ]
    },
    {
      "cell_type": "code",
      "metadata": {
        "id": "8zm4cIHHqpOp",
        "colab_type": "code",
        "colab": {
          "base_uri": "https://localhost:8080/",
          "height": 34
        },
        "outputId": "055bee22-0a26-432e-a843-ecad56daf4cf"
      },
      "source": [
        "train_labels"
      ],
      "execution_count": 5,
      "outputs": [
        {
          "output_type": "execute_result",
          "data": {
            "text/plain": [
              "array([5, 0, 4, ..., 5, 6, 8], dtype=uint8)"
            ]
          },
          "metadata": {
            "tags": []
          },
          "execution_count": 5
        }
      ]
    }
  ]
}