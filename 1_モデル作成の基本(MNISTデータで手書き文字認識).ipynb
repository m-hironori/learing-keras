{
  "nbformat": 4,
  "nbformat_minor": 0,
  "metadata": {
    "colab": {
      "name": "1_モデル作成の基本(MNISTデータで手書き文字認識).ipynb",
      "provenance": [],
      "toc_visible": true,
      "authorship_tag": "ABX9TyOhq2oRyo1VUkA9xTFR3X0b",
      "include_colab_link": true
    },
    "kernelspec": {
      "name": "python3",
      "display_name": "Python 3"
    }
  },
  "cells": [
    {
      "cell_type": "markdown",
      "metadata": {
        "id": "view-in-github",
        "colab_type": "text"
      },
      "source": [
        "<a href=\"https://colab.research.google.com/github/m-hironori/learing-keras/blob/master/1_%E3%83%A2%E3%83%87%E3%83%AB%E4%BD%9C%E6%88%90%E3%81%AE%E5%9F%BA%E6%9C%AC(MNIST%E3%83%87%E3%83%BC%E3%82%BF%E3%81%A7%E6%89%8B%E6%9B%B8%E3%81%8D%E6%96%87%E5%AD%97%E8%AA%8D%E8%AD%98).ipynb\" target=\"_parent\"><img src=\"https://colab.research.google.com/assets/colab-badge.svg\" alt=\"Open In Colab\"/></a>"
      ]
    },
    {
      "cell_type": "code",
      "metadata": {
        "id": "nQIQ3EDG0cYk",
        "colab_type": "code",
        "outputId": "71312398-11da-4fb8-b9c2-e86cde916c31",
        "colab": {
          "base_uri": "https://localhost:8080/",
          "height": 97
        }
      },
      "source": [
        "import keras\n",
        "keras.__version__"
      ],
      "execution_count": 1,
      "outputs": [
        {
          "output_type": "stream",
          "text": [
            "Using TensorFlow backend.\n"
          ],
          "name": "stderr"
        },
        {
          "output_type": "display_data",
          "data": {
            "text/html": [
              "<p style=\"color: red;\">\n",
              "The default version of TensorFlow in Colab will soon switch to TensorFlow 2.x.<br>\n",
              "We recommend you <a href=\"https://www.tensorflow.org/guide/migrate\" target=\"_blank\">upgrade</a> now \n",
              "or ensure your notebook will continue to use TensorFlow 1.x via the <code>%tensorflow_version 1.x</code> magic:\n",
              "<a href=\"https://colab.research.google.com/notebooks/tensorflow_version.ipynb\" target=\"_blank\">more info</a>.</p>\n"
            ],
            "text/plain": [
              "<IPython.core.display.HTML object>"
            ]
          },
          "metadata": {
            "tags": []
          }
        },
        {
          "output_type": "execute_result",
          "data": {
            "text/plain": [
              "'2.2.5'"
            ]
          },
          "metadata": {
            "tags": []
          },
          "execution_count": 1
        }
      ]
    },
    {
      "cell_type": "markdown",
      "metadata": {
        "id": "2Ubg1LbE1Qj7",
        "colab_type": "text"
      },
      "source": [
        "# モデル作成の基本(MNISTデータで手書き文字認識)\n",
        "\n"
      ]
    },
    {
      "cell_type": "markdown",
      "metadata": {
        "id": "EPenJcRpL1my",
        "colab_type": "text"
      },
      "source": [
        "kerasによるモデル作成の基本として、MNIST手書き文字認識を解いてみましょう。\n",
        "\n",
        "\n",
        "\n",
        " "
      ]
    },
    {
      "cell_type": "markdown",
      "metadata": {
        "id": "f4MG9VEYLj8J",
        "colab_type": "text"
      },
      "source": [
        "## 問題設定"
      ]
    },
    {
      "cell_type": "markdown",
      "metadata": {
        "id": "HMMyM7MLkRFW",
        "colab_type": "text"
      },
      "source": [
        "まずは、問題設定を確認してみましょう。"
      ]
    },
    {
      "cell_type": "markdown",
      "metadata": {
        "id": "uNbzxWHJL6Ha",
        "colab_type": "text"
      },
      "source": [
        "\n",
        "問題属性 | 問題内容\n",
        "--- | ---\n",
        "入力データ形式 | 手書きの数字 ( 0 - 9 ) 画像。28 * 28 の白黒。70,000 枚。\n",
        "予測すること | 0 - 9 のどれが書いてあるか。多クラス分類問題。 \n",
        "評価指標 | accuracy\n",
        "評価方法 | ホールドアウト(訓練 60,000, テスト 10,000)"
      ]
    },
    {
      "cell_type": "markdown",
      "metadata": {
        "id": "9Add9GrakdYc",
        "colab_type": "text"
      },
      "source": [
        "0 から 9 の手書き数字画像を入力に、何の数字かを当てることです。\n",
        "\n",
        "この問題は、データセットが用意されていること、\n",
        "データセットのサイズ小さいこと、\n",
        "DeppLearningの内容説明のしやすさもあり、\n",
        "非常によく取り上げられるます。"
      ]
    },
    {
      "cell_type": "markdown",
      "metadata": {
        "id": "VafqojnHlBQh",
        "colab_type": "text"
      },
      "source": [
        "## データ準備\n",
        "\n"
      ]
    },
    {
      "cell_type": "markdown",
      "metadata": {
        "id": "rAWyWidgmVc2",
        "colab_type": "text"
      },
      "source": [
        "データの準備をしてみましょう。"
      ]
    },
    {
      "cell_type": "code",
      "metadata": {
        "id": "im0lvxiooffp",
        "colab_type": "code",
        "colab": {}
      },
      "source": [
        "from keras.datasets import mnist\n",
        "\n",
        "(train_images, train_labels), (test_images, test_labels) = mnist.load_data()"
      ],
      "execution_count": 0,
      "outputs": []
    },
    {
      "cell_type": "markdown",
      "metadata": {
        "id": "pO1TNIsioyRP",
        "colab_type": "text"
      },
      "source": [
        "keras には、あらかじめ MNIST データを準備する関数が用意されているので、これだけで、データを取ってこれます。\n",
        "\n",
        "`mnist.loaddata()` 関数は、データを特定のURLからダウンロードし、`.keras`フォルダにおき、numpy行列としてロードしています。データがすでにフォルダにある場合はダウンロードしないようになっています。"
      ]
    },
    {
      "cell_type": "markdown",
      "metadata": {
        "id": "yElBMA0Ymgvu",
        "colab_type": "text"
      },
      "source": [
        "* データはテンソル ( Numpy でーたが扱いやすい ) として準備\n",
        "* 値は [ -1 , -1 ] や [ 0 , 1 ] ぐらいの値にスケーリングしておく\n",
        "* 特徴量の値の範囲がことなったり、異なる種類のデータを使う場合は、スケールを合わせるためにデータを正規化する \n",
        "\n"
      ]
    },
    {
      "cell_type": "markdown",
      "metadata": {
        "id": "tJoWZzCfnov4",
        "colab_type": "text"
      },
      "source": [
        "データの準備では、手元にデータを取ってきたら、ニューラルネットワークに合うように整形しておきましょう。特に値が全く異なる範囲の場合は、正規化しておきましょう。あらかじめ値の正規化したり、正規化の仕組みをニューラルネットワーク内に組み込んでおくこともできます。\n",
        "\n",
        "先ほどとってきたMNISTのデータ内容を見てみましょう。"
      ]
    },
    {
      "cell_type": "code",
      "metadata": {
        "id": "EICWcm9jr66f",
        "colab_type": "code",
        "outputId": "84538d10-f266-4870-eb4d-9582396ceb2b",
        "colab": {
          "base_uri": "https://localhost:8080/",
          "height": 102
        }
      },
      "source": [
        "print(\"\\tデータ型\")\n",
        "print(f\"訓練データ\\t{type(train_images)}\")\n",
        "print(f\"訓練ラベル\\t{type(train_labels)}\")\n",
        "print(f\"テストデータ\\t{type(test_images)}\")\n",
        "print(f\"テストラベル\\t{type(test_labels)}\")"
      ],
      "execution_count": 3,
      "outputs": [
        {
          "output_type": "stream",
          "text": [
            "\tデータ型\n",
            "訓練データ\t<class 'numpy.ndarray'>\n",
            "訓練ラベル\t<class 'numpy.ndarray'>\n",
            "テストデータ\t<class 'numpy.ndarray'>\n",
            "テストラベル\t<class 'numpy.ndarray'>\n"
          ],
          "name": "stdout"
        }
      ]
    },
    {
      "cell_type": "markdown",
      "metadata": {
        "id": "eVDBF8Zmtz1a",
        "colab_type": "text"
      },
      "source": [
        "ロードしたデータは、すでにNumpy形式になっていますね。データ型変換はしなくてもよさそうです。"
      ]
    },
    {
      "cell_type": "code",
      "metadata": {
        "id": "LnE-nTdjqeeb",
        "colab_type": "code",
        "outputId": "3e352b63-1b03-47e9-e10e-20eecd9208ae",
        "colab": {
          "base_uri": "https://localhost:8080/",
          "height": 102
        }
      },
      "source": [
        "import numpy as np\n",
        "\n",
        "print(\"\\tデータサイズ\\t型\\t最大値\\t最小値\")\n",
        "print(f\"訓練データ\\t{train_images.shape}\\t{train_images.dtype}\\t{train_images.max()}\\t{train_images.min()}\")\n",
        "print(f\"訓練ラベル\\t{train_labels.shape}\\t{train_labels.dtype}\\t{train_labels.max()}\\t{train_labels.min()}\")\n",
        "print(f\"テストデータ\\t{test_images.shape}\\t{test_images.dtype}\\t{test_images.max()}\\t{test_images.min()}\")\n",
        "print(f\"テストラベル\\t{test_labels.shape}\\t{test_labels.dtype}\\t{test_labels.max()}\\t{test_labels.min()}\")"
      ],
      "execution_count": 4,
      "outputs": [
        {
          "output_type": "stream",
          "text": [
            "\tデータサイズ\t型\t最大値\t最小値\n",
            "訓練データ\t(60000, 28, 28)\tuint8\t255\t0\n",
            "訓練ラベル\t(60000,)\tuint8\t9\t0\n",
            "テストデータ\t(10000, 28, 28)\tuint8\t255\t0\n",
            "テストラベル\t(10000,)\tuint8\t9\t0\n"
          ],
          "name": "stdout"
        }
      ]
    },
    {
      "cell_type": "markdown",
      "metadata": {
        "id": "DSQftXuzvO92",
        "colab_type": "text"
      },
      "source": [
        "訓練データは 60000 枚の 縦 28 × 横 28 の画像、各値は整数値、最大値 255, 最小値 0です。\n",
        "訓練ラベルは、60000個の正解データで整数値、最大値 9, 最小値 0です。テストデータとテストラベルは、10000 枚で、同じ形式の画像とラベルです。\n",
        "\n",
        "データは、白黒画像で255諧調の画像ですね。ラベルは、手書き文字のの正解の数字の 0 - 9 ですね。\n",
        "\n",
        "ここからわかることは、データは、0 - 1 にスケーリングして、入力したほうがよさそうです。\n",
        "ラベルは、one-hot encoding しておいたほうがよさそうです。\n",
        "\n",
        "次は、データの中身を一つ取り出して見てみましょう。"
      ]
    },
    {
      "cell_type": "code",
      "metadata": {
        "id": "F9g1PN2GqmH5",
        "colab_type": "code",
        "outputId": "47a76819-92fa-42ed-8df0-59de64be4ac7",
        "colab": {
          "base_uri": "https://localhost:8080/",
          "height": 299
        }
      },
      "source": [
        "print(f\"訓練ラベル\\t{train_labels[0]}\")\n",
        "import matplotlib.pyplot as plt\n",
        "\n",
        "plt.imshow(train_images[0], cmap='gray')"
      ],
      "execution_count": 5,
      "outputs": [
        {
          "output_type": "stream",
          "text": [
            "訓練ラベル\t5\n"
          ],
          "name": "stdout"
        },
        {
          "output_type": "execute_result",
          "data": {
            "text/plain": [
              "<matplotlib.image.AxesImage at 0x7f2201f13390>"
            ]
          },
          "metadata": {
            "tags": []
          },
          "execution_count": 5
        },
        {
          "output_type": "display_data",
          "data": {
            "image/png": "[encoded data removed]",
            "text/plain": [
              "<Figure size 432x288 with 1 Axes>"
            ]
          },
          "metadata": {
            "tags": []
          }
        }
      ]
    },
    {
      "cell_type": "markdown",
      "metadata": {
        "id": "ZsTUkQ_wmeEv",
        "colab_type": "text"
      },
      "source": [
        "数字 5 の手書き数字画像であることがわかります。"
      ]
    },
    {
      "cell_type": "markdown",
      "metadata": {
        "id": "nsXTeQF5n8jy",
        "colab_type": "text"
      },
      "source": [
        "## ベースライン精度(統計的検出力)"
      ]
    },
    {
      "cell_type": "markdown",
      "metadata": {
        "id": "U-oJl8vhoLfw",
        "colab_type": "text"
      },
      "source": [
        "データの統計的な情報から、ランダムに選択した場合の精度を求めてみます。\n",
        "これから作成するモデルで、これを上回らないと、ランダムに選択したときに負けてしまい、意味がなくなります。"
      ]
    },
    {
      "cell_type": "code",
      "metadata": {
        "id": "JD1drC0EouUG",
        "colab_type": "code",
        "colab": {
          "base_uri": "https://localhost:8080/",
          "height": 353
        },
        "outputId": "df7a0536-6488-4814-b207-64296ccd3f75"
      },
      "source": [
        "fig, (ax1, ax2) = plt.subplots(1, 2, figsize=(10,5))\n",
        "import seaborn as sns\n",
        "sns.distplot(train_labels, kde=False, rug=False, bins=range(11), ax=ax1)\n",
        "ax1.set_title(\"train_labels histgram\")\n",
        "sns.distplot(test_labels, kde=False, rug=False, bins=range(11), ax=ax2) \n",
        "ax2.set_title(\"test_labels histgram\")"
      ],
      "execution_count": 6,
      "outputs": [
        {
          "output_type": "execute_result",
          "data": {
            "text/plain": [
              "Text(0.5, 1.0, 'test_labels histgram')"
            ]
          },
          "metadata": {
            "tags": []
          },
          "execution_count": 6
        },
        {
          "output_type": "display_data",
          "data": {
            "image/png": "[encoded data removed]",
            "text/plain": [
              "<Figure size 720x360 with 2 Axes>"
            ]
          },
          "metadata": {
            "tags": []
          }
        }
      ]
    },
    {
      "cell_type": "markdown",
      "metadata": {
        "id": "YociB44HvQT8",
        "colab_type": "text"
      },
      "source": [
        "評価指標 | 統計的検出力\n",
        "--- | ---\n",
        "accuracy | 0.1"
      ]
    },
    {
      "cell_type": "markdown",
      "metadata": {
        "id": "lG-aLUYvpfqN",
        "colab_type": "text"
      },
      "source": [
        "各数字とも大体同程度含んでいて、訓練データもテストデータもほぼ分布です。\n",
        "\n",
        "したがって、accuracy = 0.1 が統計的検出力となります。 "
      ]
    },
    {
      "cell_type": "markdown",
      "metadata": {
        "id": "9OX8daOev2w0",
        "colab_type": "text"
      },
      "source": [
        "## モデル開発"
      ]
    },
    {
      "cell_type": "markdown",
      "metadata": {
        "id": "cFnpeYnnv7a4",
        "colab_type": "text"
      },
      "source": [
        "では、モデルを開発してみましょう。"
      ]
    },
    {
      "cell_type": "markdown",
      "metadata": {
        "id": "Zh63jdij0kYZ",
        "colab_type": "text"
      },
      "source": [
        "### モデルを定義する"
      ]
    },
    {
      "cell_type": "code",
      "metadata": {
        "id": "YnH_Jq1awVM_",
        "colab_type": "code",
        "colab": {
          "base_uri": "https://localhost:8080/",
          "height": 414
        },
        "outputId": "98848ad1-5de6-4c70-965b-56b125b0fbe3"
      },
      "source": [
        "from keras import models\n",
        "from keras import layers\n",
        "from keras.utils import plot_model\n",
        "\n",
        "network = models.Sequential()\n",
        "network.add(layers.Dense(512, activation='relu', input_shape=(28 * 28,)))\n",
        "network.add(layers.Dense(10, activation='softmax'))\n",
        "\n",
        "plot_model(network, show_shapes=True)"
      ],
      "execution_count": 7,
      "outputs": [
        {
          "output_type": "stream",
          "text": [
            "WARNING:tensorflow:From /usr/local/lib/python3.6/dist-packages/keras/backend/tensorflow_backend.py:66: The name tf.get_default_graph is deprecated. Please use tf.compat.v1.get_default_graph instead.\n",
            "\n",
            "WARNING:tensorflow:From /usr/local/lib/python3.6/dist-packages/keras/backend/tensorflow_backend.py:541: The name tf.placeholder is deprecated. Please use tf.compat.v1.placeholder instead.\n",
            "\n",
            "WARNING:tensorflow:From /usr/local/lib/python3.6/dist-packages/keras/backend/tensorflow_backend.py:4432: The name tf.random_uniform is deprecated. Please use tf.random.uniform instead.\n",
            "\n"
          ],
          "name": "stdout"
        },
        {
          "output_type": "execute_result",
          "data": {
            "image/png": "[encoded data removed]",
            "text/plain": [
              "<IPython.core.display.Image object>"
            ]
          },
          "metadata": {
            "tags": []
          },
          "execution_count": 7
        }
      ]
    },
    {
      "cell_type": "markdown",
      "metadata": {
        "id": "ges8-x4MxidT",
        "colab_type": "text"
      },
      "source": [
        "このように、あらかじめ定義された層を、重ねていくだけで、DeepLearningのモデルが出来上がってしまいます。\n",
        "\n",
        "今回は、非常に簡単なモデルです。\n",
        "\n",
        "入力は、縦横 28 × 28 の画像のそれぞれの画素を横に並べたものを想定しています。ですので、全部で 784 個の値が入力になっています。\n",
        "\n",
        "初めは、Denseレイヤーです。ここでは、512個の要素に変換し、活性化関数はReLUです。\n",
        "\n",
        "最後の、Denseレイヤーは、出力となる 0 から 9 の10個のどれかの分類問題と解くため、10個の要素に変換し、活性化関数はSoftMAXです。\n",
        "\n"
      ]
    },
    {
      "cell_type": "markdown",
      "metadata": {
        "id": "tj4Ngej90rDa",
        "colab_type": "text"
      },
      "source": [
        "### コンパイルする"
      ]
    },
    {
      "cell_type": "code",
      "metadata": {
        "id": "WgtxbvEnztai",
        "colab_type": "code",
        "colab": {
          "base_uri": "https://localhost:8080/",
          "height": 85
        },
        "outputId": "66b45720-041e-4eed-fd62-e4f6048c15ce"
      },
      "source": [
        "network.compile(optimizer='rmsprop',\n",
        "                loss='categorical_crossentropy',\n",
        "                metrics=['accuracy'])"
      ],
      "execution_count": 8,
      "outputs": [
        {
          "output_type": "stream",
          "text": [
            "WARNING:tensorflow:From /usr/local/lib/python3.6/dist-packages/keras/optimizers.py:793: The name tf.train.Optimizer is deprecated. Please use tf.compat.v1.train.Optimizer instead.\n",
            "\n",
            "WARNING:tensorflow:From /usr/local/lib/python3.6/dist-packages/keras/backend/tensorflow_backend.py:3576: The name tf.log is deprecated. Please use tf.math.log instead.\n",
            "\n"
          ],
          "name": "stdout"
        }
      ]
    },
    {
      "cell_type": "markdown",
      "metadata": {
        "id": "eov0Hkia0HPF",
        "colab_type": "text"
      },
      "source": [
        "次に、このネットワークをコンパイルします。コンパイルにより、損失関数と最適化方法を指定します。\n",
        "\n",
        "今回は、損失関数をCategory CrossEntropy、最適化手法をRmsPropを指定します。"
      ]
    },
    {
      "cell_type": "markdown",
      "metadata": {
        "id": "YUUiFhe10w40",
        "colab_type": "text"
      },
      "source": [
        "### データを整形する"
      ]
    },
    {
      "cell_type": "code",
      "metadata": {
        "id": "OSJDrTF70eUq",
        "colab_type": "code",
        "colab": {}
      },
      "source": [
        "train_images = train_images.reshape((60000, 28 * 28))\n",
        "train_images = train_images.astype('float32') / 255\n",
        "\n",
        "test_images = test_images.reshape((10000, 28 * 28))\n",
        "test_images = test_images.astype('float32') / 255\n",
        "\n",
        "from keras.utils import to_categorical\n",
        "\n",
        "train_labels = to_categorical(train_labels)\n",
        "test_labels = to_categorical(test_labels)"
      ],
      "execution_count": 0,
      "outputs": []
    },
    {
      "cell_type": "markdown",
      "metadata": {
        "id": "S4H0HQv00EDf",
        "colab_type": "text"
      },
      "source": [
        "先ほどのデータ準備で分かった必要な変換と、今回のモデル定義に従った変換を行います。\n",
        "\n",
        "画像データは、正規化のため、255で割っています。また、モデル定義で、各画素を直列に並べたデータを入力にするため、画像をフラットに変換しています。\n",
        "\n",
        "ラベルは、onehot encoding しています。"
      ]
    },
    {
      "cell_type": "markdown",
      "metadata": {
        "id": "qNLIHQq11yOj",
        "colab_type": "text"
      },
      "source": [
        "### 訓練する"
      ]
    },
    {
      "cell_type": "code",
      "metadata": {
        "id": "QjauSqDy214u",
        "colab_type": "code",
        "colab": {
          "base_uri": "https://localhost:8080/",
          "height": 442
        },
        "outputId": "b055938b-cb84-4bea-accc-e51752c4f8b4"
      },
      "source": [
        "np.random.seed(seed=0)\n",
        "indices = np.arange(train_images.shape[0])\n",
        "np.random.shuffle(indices)\n",
        "train_images = train_images[indices]\n",
        "train_labels = train_labels[indices]\n",
        "\n",
        "history = network.fit(train_images, train_labels, epochs=12, batch_size=128, validation_split=0.1)"
      ],
      "execution_count": 13,
      "outputs": [
        {
          "output_type": "stream",
          "text": [
            "Train on 54000 samples, validate on 6000 samples\n",
            "Epoch 1/12\n",
            "54000/54000 [==============================] - 5s 89us/step - loss: 0.0138 - acc: 0.9965 - val_loss: 0.0153 - val_acc: 0.9955\n",
            "Epoch 2/12\n",
            "54000/54000 [==============================] - 5s 85us/step - loss: 0.0091 - acc: 0.9976 - val_loss: 0.0262 - val_acc: 0.9913\n",
            "Epoch 3/12\n",
            "54000/54000 [==============================] - 5s 87us/step - loss: 0.0074 - acc: 0.9982 - val_loss: 0.0141 - val_acc: 0.9967\n",
            "Epoch 4/12\n",
            "54000/54000 [==============================] - 5s 86us/step - loss: 0.0054 - acc: 0.9988 - val_loss: 0.0196 - val_acc: 0.9948\n",
            "Epoch 5/12\n",
            "54000/54000 [==============================] - 5s 88us/step - loss: 0.0046 - acc: 0.9991 - val_loss: 0.0144 - val_acc: 0.9953\n",
            "Epoch 6/12\n",
            "54000/54000 [==============================] - 5s 89us/step - loss: 0.0037 - acc: 0.9991 - val_loss: 0.0211 - val_acc: 0.9935\n",
            "Epoch 7/12\n",
            "54000/54000 [==============================] - 5s 85us/step - loss: 0.0032 - acc: 0.9993 - val_loss: 0.0184 - val_acc: 0.9955\n",
            "Epoch 8/12\n",
            "54000/54000 [==============================] - 5s 84us/step - loss: 0.0029 - acc: 0.9994 - val_loss: 0.0229 - val_acc: 0.9948\n",
            "Epoch 9/12\n",
            "54000/54000 [==============================] - 4s 82us/step - loss: 0.0028 - acc: 0.9995 - val_loss: 0.0204 - val_acc: 0.9958\n",
            "Epoch 10/12\n",
            "54000/54000 [==============================] - 4s 83us/step - loss: 0.0021 - acc: 0.9997 - val_loss: 0.0302 - val_acc: 0.9928\n",
            "Epoch 11/12\n",
            "54000/54000 [==============================] - 5s 84us/step - loss: 0.0021 - acc: 0.9997 - val_loss: 0.0187 - val_acc: 0.9957\n",
            "Epoch 12/12\n",
            "54000/54000 [==============================] - 4s 83us/step - loss: 0.0019 - acc: 0.9997 - val_loss: 0.0227 - val_acc: 0.9942\n"
          ],
          "name": "stdout"
        }
      ]
    },
    {
      "cell_type": "markdown",
      "metadata": {
        "id": "FeJvbShZ3xJC",
        "colab_type": "text"
      },
      "source": [
        "訓練には、fitメソッドを呼ぶだけです。\n",
        "\n",
        "今回は、10% をvalidationデータとして指定しています。\n",
        "\n",
        "ここで、注意が必要なのは、validation_splitを指定した場合、validationデータは、ランダムに選ばれるわけではなく、最後の10%が選ばれるということです。なので、今回は、訓練データをあらかじめランダムに並べ替えておきました。"
      ]
    },
    {
      "cell_type": "markdown",
      "metadata": {
        "id": "fsUB475349Lw",
        "colab_type": "text"
      },
      "source": [
        "### 精度を測る"
      ]
    },
    {
      "cell_type": "code",
      "metadata": {
        "id": "HNKxk05l5HBl",
        "colab_type": "code",
        "colab": {
          "base_uri": "https://localhost:8080/",
          "height": 51
        },
        "outputId": "9edbdfe1-f937-4935-b408-d5cd41654ce1"
      },
      "source": [
        "test_loss, test_acc = network.evaluate(test_images, test_labels)\n",
        "print('test_acc:', test_acc)\n"
      ],
      "execution_count": 11,
      "outputs": [
        {
          "output_type": "stream",
          "text": [
            "10000/10000 [==============================] - 1s 54us/step\n",
            "test_acc: 0.9812\n"
          ],
          "name": "stdout"
        }
      ]
    },
    {
      "cell_type": "markdown",
      "metadata": {
        "id": "RZ9F45IL58ni",
        "colab_type": "text"
      },
      "source": [
        "0.98 近くの精度が出ました。非常に良い結果でした。\n",
        "\n",
        "先のベースラインは 0.1 でしたので、大きく超えました。"
      ]
    },
    {
      "cell_type": "markdown",
      "metadata": {
        "id": "tYx-N11g60Ma",
        "colab_type": "text"
      },
      "source": [
        "### 学習過程を見てみる"
      ]
    },
    {
      "cell_type": "code",
      "metadata": {
        "id": "NATa9YqZ7XNw",
        "colab_type": "code",
        "colab": {
          "base_uri": "https://localhost:8080/",
          "height": 295
        },
        "outputId": "33af5f3e-4b37-4696-e7b8-a80bd2062696"
      },
      "source": [
        "import matplotlib.pyplot as plt\n",
        "\n",
        "acc = history.history['acc']\n",
        "val_acc = history.history['val_acc']\n",
        "loss = history.history['loss']\n",
        "val_loss = history.history['val_loss']\n",
        "\n",
        "epochs = range(1, len(acc) + 1)\n",
        "\n",
        "# \"bo\" is for \"blue dot\"\n",
        "plt.plot(epochs, loss, 'bo', label='Training loss')\n",
        "# b is for \"solid blue line\"\n",
        "plt.plot(epochs, val_loss, 'b', label='Validation loss')\n",
        "plt.title('Training and validation loss')\n",
        "plt.xlabel('Epochs')\n",
        "plt.ylabel('Loss')\n",
        "plt.legend()\n",
        "\n",
        "plt.show()"
      ],
      "execution_count": 12,
      "outputs": [
        {
          "output_type": "display_data",
          "data": {
            "image/png": "[encoded data removed]",
            "text/plain": [
              "<Figure size 432x288 with 1 Axes>"
            ]
          },
          "metadata": {
            "tags": []
          }
        }
      ]
    },
    {
      "cell_type": "markdown",
      "metadata": {
        "id": "BiGDNEJX7srk",
        "colab_type": "text"
      },
      "source": [
        "訓練データの loss は順調に下がっているのがわかります。しかし、validationデータの loss は 7 エポック以降下がらず、のちに上がっているのがわかります。\n",
        "\n",
        "つまり、7 エポック以降は過学習を起こしています。\n",
        "\n",
        "各種パラメタの調整により、過学習を抑えた学習を行うことが必要かもしれません。\n",
        "初手は、最適化関数の学習率を低くすることでしょう。\n",
        "または、Denseの要素数を減らすと安定するかもしれません。\n",
        "\n",
        "そもそも、安定したとしても、これ以上の精度を求めるのが難しいかもしれません。\n",
        "モデルそのものを変更すべきでしょう。"
      ]
    },
    {
      "cell_type": "markdown",
      "metadata": {
        "id": "d8Fm2fZs9f0k",
        "colab_type": "text"
      },
      "source": [
        "## まとめ"
      ]
    },
    {
      "cell_type": "markdown",
      "metadata": {
        "id": "Fd49C-TK9iGQ",
        "colab_type": "text"
      },
      "source": [
        "* 機械学習の大まかなフローに沿って、最も一般的なMNIST手書き文字認識を解いた\n",
        "  * 問題設定 → データ準備 → ベースライン精度算出 → モデル開発\n",
        "* データ準備では、データの内容を確認することで、モデル開発時のデータ変換方法を確認\n",
        "* モデル開発では、kerasを利用して、非常に簡単なDenseレイヤーのみのモデルを開発\n",
        "  * あらかじめ用意されているレイヤを積み重ねるだけで、Deep Learnig のモデルができる\n",
        "  * fitメソッドや、evaluateメソッドを呼ぶだけで、学習や評価ができてしまう\n",
        "  * 簡単なモデルなのに、精度は90%を超える"
      ]
    },
    {
      "cell_type": "markdown",
      "metadata": {
        "id": "NA8E3_fp_Q9U",
        "colab_type": "text"
      },
      "source": [
        "今回は、機械学習エンジニアリングやデータサイエンティストが行うフローに従って、MNIST手書き文字認識問題を解いてみました。\n",
        "\n",
        "データ準備で、データ内容を確認し、モデル開発での変換をスムーズに行うことができます。\n",
        "\n",
        "モデル開発では、Kerasを使って、2層の非常に簡単なモデルを作成しました。\n",
        "\n",
        "あらかじめ定義されたレイヤを積み重ねるだけでモデルができてしまいました。\n",
        "\n",
        "今回は非常に単純なモデルで、画像処理でよく用いるConvolusion手法などは全く利用していません。それでも、90%近くの精度を確保できることがわかりました。\n",
        "\n",
        "\n"
      ]
    }
  ]
}